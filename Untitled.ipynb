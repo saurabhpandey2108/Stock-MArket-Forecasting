{
 "cells": [
  {
   "cell_type": "markdown",
   "id": "eaf24f2f-412f-4168-b73a-cf8c69091b8c",
   "metadata": {},
   "source": [
    "## Stock Market Prediction And Forecasting Using Stacked LSTM"
   ]
  },
  {
   "cell_type": "code",
   "execution_count": 1,
   "id": "a7504d0c-ee3b-4e73-b56f-2f1de0e7cf33",
   "metadata": {},
   "outputs": [],
   "source": [
    "import pandas as pd \n",
    "import numpy as np"
   ]
  },
  {
   "cell_type": "code",
   "execution_count": 2,
   "id": "4a0785c0-a32d-4100-9f9d-d1f087a2e413",
   "metadata": {},
   "outputs": [
    {
     "name": "stdout",
     "output_type": "stream",
     "text": [
      "Requirement already satisfied: pandas_datareader in d:\\anaconda3\\lib\\site-packages (0.10.0)\n",
      "Requirement already satisfied: lxml in d:\\anaconda3\\lib\\site-packages (from pandas_datareader) (4.9.3)\n",
      "Requirement already satisfied: pandas>=0.23 in d:\\anaconda3\\lib\\site-packages (from pandas_datareader) (2.1.4)\n",
      "Requirement already satisfied: requests>=2.19.0 in d:\\anaconda3\\lib\\site-packages (from pandas_datareader) (2.32.3)\n",
      "Requirement already satisfied: numpy<2,>=1.23.2 in d:\\anaconda3\\lib\\site-packages (from pandas>=0.23->pandas_datareader) (1.26.4)\n",
      "Requirement already satisfied: python-dateutil>=2.8.2 in d:\\anaconda3\\lib\\site-packages (from pandas>=0.23->pandas_datareader) (2.8.2)\n",
      "Requirement already satisfied: pytz>=2020.1 in d:\\anaconda3\\lib\\site-packages (from pandas>=0.23->pandas_datareader) (2023.3.post1)\n",
      "Requirement already satisfied: tzdata>=2022.1 in d:\\anaconda3\\lib\\site-packages (from pandas>=0.23->pandas_datareader) (2023.3)\n",
      "Requirement already satisfied: charset-normalizer<4,>=2 in d:\\anaconda3\\lib\\site-packages (from requests>=2.19.0->pandas_datareader) (3.3.2)\n",
      "Requirement already satisfied: idna<4,>=2.5 in d:\\anaconda3\\lib\\site-packages (from requests>=2.19.0->pandas_datareader) (3.8)\n",
      "Requirement already satisfied: urllib3<3,>=1.21.1 in d:\\anaconda3\\lib\\site-packages (from requests>=2.19.0->pandas_datareader) (2.2.2)\n",
      "Requirement already satisfied: certifi>=2017.4.17 in d:\\anaconda3\\lib\\site-packages (from requests>=2.19.0->pandas_datareader) (2024.8.30)\n",
      "Requirement already satisfied: six>=1.5 in d:\\anaconda3\\lib\\site-packages (from python-dateutil>=2.8.2->pandas>=0.23->pandas_datareader) (1.16.0)\n",
      "Note: you may need to restart the kernel to use updated packages.\n"
     ]
    }
   ],
   "source": [
    "pip install pandas_datareader"
   ]
  },
  {
   "cell_type": "code",
   "execution_count": 3,
   "id": "9c31f23b-8174-4993-afe5-f180928c432b",
   "metadata": {},
   "outputs": [],
   "source": [
    "import pandas_datareader as pdr"
   ]
  },
  {
   "cell_type": "code",
   "execution_count": 16,
   "id": "754d9d29",
   "metadata": {},
   "outputs": [
    {
     "name": "stdout",
     "output_type": "stream",
     "text": [
      "Requirement already satisfied: pandas_datareader in d:\\anaconda3\\lib\\site-packages (0.10.0)Note: you may need to restart the kernel to use updated packages.\n",
      "\n",
      "Requirement already satisfied: lxml in d:\\anaconda3\\lib\\site-packages (from pandas_datareader) (4.9.3)\n",
      "Requirement already satisfied: pandas>=0.23 in d:\\anaconda3\\lib\\site-packages (from pandas_datareader) (2.1.4)\n",
      "Requirement already satisfied: requests>=2.19.0 in d:\\anaconda3\\lib\\site-packages (from pandas_datareader) (2.32.3)\n",
      "Requirement already satisfied: numpy<2,>=1.23.2 in d:\\anaconda3\\lib\\site-packages (from pandas>=0.23->pandas_datareader) (1.26.4)\n",
      "Requirement already satisfied: python-dateutil>=2.8.2 in d:\\anaconda3\\lib\\site-packages (from pandas>=0.23->pandas_datareader) (2.8.2)\n",
      "Requirement already satisfied: pytz>=2020.1 in d:\\anaconda3\\lib\\site-packages (from pandas>=0.23->pandas_datareader) (2023.3.post1)\n",
      "Requirement already satisfied: tzdata>=2022.1 in d:\\anaconda3\\lib\\site-packages (from pandas>=0.23->pandas_datareader) (2023.3)\n",
      "Requirement already satisfied: charset-normalizer<4,>=2 in d:\\anaconda3\\lib\\site-packages (from requests>=2.19.0->pandas_datareader) (3.3.2)\n",
      "Requirement already satisfied: idna<4,>=2.5 in d:\\anaconda3\\lib\\site-packages (from requests>=2.19.0->pandas_datareader) (3.8)\n",
      "Requirement already satisfied: urllib3<3,>=1.21.1 in d:\\anaconda3\\lib\\site-packages (from requests>=2.19.0->pandas_datareader) (2.2.2)\n",
      "Requirement already satisfied: certifi>=2017.4.17 in d:\\anaconda3\\lib\\site-packages (from requests>=2.19.0->pandas_datareader) (2024.8.30)\n",
      "Requirement already satisfied: six>=1.5 in d:\\anaconda3\\lib\\site-packages (from python-dateutil>=2.8.2->pandas>=0.23->pandas_datareader) (1.16.0)\n"
     ]
    }
   ],
   "source": [
    "pip install --upgrade pandas_datareader"
   ]
  },
  {
   "cell_type": "code",
   "execution_count": 17,
   "id": "d1ca72a1",
   "metadata": {},
   "outputs": [
    {
     "name": "stdout",
     "output_type": "stream",
     "text": [
      "Data fetched successfully!\n",
      "                          date   close    high     low    open    volume  \\\n",
      "0     2019-10-21T00:00:00.000Z  240.51  240.99  237.32  237.52  21811567   \n",
      "1     2019-10-22T00:00:00.000Z  239.96  242.20  239.62  241.16  22684001   \n",
      "2     2019-10-23T00:00:00.000Z  243.18  243.24  241.22  242.10  19932545   \n",
      "3     2019-10-24T00:00:00.000Z  243.58  244.80  241.81  244.51  17916255   \n",
      "4     2019-10-25T00:00:00.000Z  246.58  246.73  242.88  243.16  18369296   \n",
      "...                        ...     ...     ...     ...     ...       ...   \n",
      "1252  2024-10-11T00:00:00.000Z  227.55  229.41  227.34  229.30  31759188   \n",
      "1253  2024-10-14T00:00:00.000Z  231.30  231.73  228.60  228.70  39882085   \n",
      "1254  2024-10-15T00:00:00.000Z  233.85  237.49  232.37  233.61  64751367   \n",
      "1255  2024-10-16T00:00:00.000Z  231.78  232.12  229.84  231.60  34082240   \n",
      "1256  2024-10-17T00:00:00.000Z  232.15  233.85  230.52  233.43  32290873   \n",
      "\n",
      "        adjClose     adjHigh      adjLow     adjOpen  adjVolume  divCash  \\\n",
      "0      58.185096   58.301219   57.413359   57.461744   87246268      0.0   \n",
      "1      58.052038   58.593947   57.969784   58.342346   90736004      0.0   \n",
      "2      58.831032   58.845548   58.356862   58.569755   79730180      0.0   \n",
      "3      58.927802   59.222949   58.499597   59.152791   71665020      0.0   \n",
      "4      59.653573   59.689862   58.758455   58.826194   73477184      0.0   \n",
      "...          ...         ...         ...         ...        ...      ...   \n",
      "1252  227.550000  229.410000  227.340000  229.300000   31759188      0.0   \n",
      "1253  231.300000  231.730000  228.600000  228.700000   39882085      0.0   \n",
      "1254  233.850000  237.490000  232.370000  233.610000   64751367      0.0   \n",
      "1255  231.780000  232.120000  229.840000  231.600000   34082240      0.0   \n",
      "1256  232.150000  233.850000  230.520000  233.430000   32290873      0.0   \n",
      "\n",
      "      splitFactor  \n",
      "0             1.0  \n",
      "1             1.0  \n",
      "2             1.0  \n",
      "3             1.0  \n",
      "4             1.0  \n",
      "...           ...  \n",
      "1252          1.0  \n",
      "1253          1.0  \n",
      "1254          1.0  \n",
      "1255          1.0  \n",
      "1256          1.0  \n",
      "\n",
      "[1257 rows x 13 columns]\n"
     ]
    }
   ],
   "source": [
    "import requests\n",
    "import pandas as pd\n",
    "import os\n",
    "\n",
    "# Set your Tiingo API key\n",
    "os.environ['TIINGO_API_KEY'] = '9474c9e151c96703609f5d682d5983dd5e1e9101'\n",
    "key = os.getenv('TIINGO_API_KEY')\n",
    "\n",
    "# Define the function to fetch data from Tiingo\n",
    "def get_tiingo_data(symbol, start_date, end_date, api_key):\n",
    "    headers = {\n",
    "        'Content-Type': 'application/json',\n",
    "        'Authorization': 'Token ' + api_key\n",
    "    }\n",
    "    url = f'https://api.tiingo.com/tiingo/daily/{symbol}/prices'\n",
    "    params = {'startDate': start_date, 'endDate': end_date}\n",
    "    \n",
    "    response = requests.get(url, headers=headers, params=params)\n",
    "    \n",
    "    if response.status_code == 200:\n",
    "        return pd.DataFrame(response.json())  # Convert to DataFrame\n",
    "    else:\n",
    "        raise Exception(f\"Failed to fetch data: {response.status_code}, {response.text}\")\n",
    "\n",
    "# Parameters for fetching AAPL data\n",
    "symbol = 'AAPL'\n",
    "start_date = '2019-10-20'\n",
    "end_date = '2024-10-18'\n",
    "\n",
    "# Get data from Tiingo\n",
    "try:\n",
    "    df = get_tiingo_data(symbol, start_date, end_date, key)\n",
    "    print(\"Data fetched successfully!\")\n",
    "    print(df)\n",
    "except Exception as e:\n",
    "    print(e)\n"
   ]
  },
  {
   "cell_type": "code",
   "execution_count": 18,
   "id": "7a81fe83",
   "metadata": {},
   "outputs": [],
   "source": [
    "df.to_csv('AAPL.csv')"
   ]
  },
  {
   "cell_type": "code",
   "execution_count": 19,
   "id": "8a9baf2d",
   "metadata": {},
   "outputs": [],
   "source": [
    "df=pd.read_csv('AAPL.csv')"
   ]
  },
  {
   "cell_type": "code",
   "execution_count": 20,
   "id": "d1e58c41",
   "metadata": {},
   "outputs": [],
   "source": [
    "df2=df.reset_index()['close']"
   ]
  },
  {
   "cell_type": "code",
   "execution_count": 21,
   "id": "0b5dccbb",
   "metadata": {},
   "outputs": [
    {
     "data": {
      "text/html": [
       "<div>\n",
       "<style scoped>\n",
       "    .dataframe tbody tr th:only-of-type {\n",
       "        vertical-align: middle;\n",
       "    }\n",
       "\n",
       "    .dataframe tbody tr th {\n",
       "        vertical-align: top;\n",
       "    }\n",
       "\n",
       "    .dataframe thead th {\n",
       "        text-align: right;\n",
       "    }\n",
       "</style>\n",
       "<table border=\"1\" class=\"dataframe\">\n",
       "  <thead>\n",
       "    <tr style=\"text-align: right;\">\n",
       "      <th></th>\n",
       "      <th>Unnamed: 0</th>\n",
       "      <th>date</th>\n",
       "      <th>close</th>\n",
       "      <th>high</th>\n",
       "      <th>low</th>\n",
       "      <th>open</th>\n",
       "      <th>volume</th>\n",
       "      <th>adjClose</th>\n",
       "      <th>adjHigh</th>\n",
       "      <th>adjLow</th>\n",
       "      <th>adjOpen</th>\n",
       "      <th>adjVolume</th>\n",
       "      <th>divCash</th>\n",
       "      <th>splitFactor</th>\n",
       "    </tr>\n",
       "  </thead>\n",
       "  <tbody>\n",
       "    <tr>\n",
       "      <th>0</th>\n",
       "      <td>0</td>\n",
       "      <td>2019-10-21T00:00:00.000Z</td>\n",
       "      <td>240.51</td>\n",
       "      <td>240.99</td>\n",
       "      <td>237.32</td>\n",
       "      <td>237.52</td>\n",
       "      <td>21811567</td>\n",
       "      <td>58.185096</td>\n",
       "      <td>58.301219</td>\n",
       "      <td>57.413359</td>\n",
       "      <td>57.461744</td>\n",
       "      <td>87246268</td>\n",
       "      <td>0.0</td>\n",
       "      <td>1.0</td>\n",
       "    </tr>\n",
       "    <tr>\n",
       "      <th>1</th>\n",
       "      <td>1</td>\n",
       "      <td>2019-10-22T00:00:00.000Z</td>\n",
       "      <td>239.96</td>\n",
       "      <td>242.20</td>\n",
       "      <td>239.62</td>\n",
       "      <td>241.16</td>\n",
       "      <td>22684001</td>\n",
       "      <td>58.052038</td>\n",
       "      <td>58.593947</td>\n",
       "      <td>57.969784</td>\n",
       "      <td>58.342346</td>\n",
       "      <td>90736004</td>\n",
       "      <td>0.0</td>\n",
       "      <td>1.0</td>\n",
       "    </tr>\n",
       "    <tr>\n",
       "      <th>2</th>\n",
       "      <td>2</td>\n",
       "      <td>2019-10-23T00:00:00.000Z</td>\n",
       "      <td>243.18</td>\n",
       "      <td>243.24</td>\n",
       "      <td>241.22</td>\n",
       "      <td>242.10</td>\n",
       "      <td>19932545</td>\n",
       "      <td>58.831032</td>\n",
       "      <td>58.845548</td>\n",
       "      <td>58.356862</td>\n",
       "      <td>58.569755</td>\n",
       "      <td>79730180</td>\n",
       "      <td>0.0</td>\n",
       "      <td>1.0</td>\n",
       "    </tr>\n",
       "    <tr>\n",
       "      <th>3</th>\n",
       "      <td>3</td>\n",
       "      <td>2019-10-24T00:00:00.000Z</td>\n",
       "      <td>243.58</td>\n",
       "      <td>244.80</td>\n",
       "      <td>241.81</td>\n",
       "      <td>244.51</td>\n",
       "      <td>17916255</td>\n",
       "      <td>58.927802</td>\n",
       "      <td>59.222949</td>\n",
       "      <td>58.499597</td>\n",
       "      <td>59.152791</td>\n",
       "      <td>71665020</td>\n",
       "      <td>0.0</td>\n",
       "      <td>1.0</td>\n",
       "    </tr>\n",
       "    <tr>\n",
       "      <th>4</th>\n",
       "      <td>4</td>\n",
       "      <td>2019-10-25T00:00:00.000Z</td>\n",
       "      <td>246.58</td>\n",
       "      <td>246.73</td>\n",
       "      <td>242.88</td>\n",
       "      <td>243.16</td>\n",
       "      <td>18369296</td>\n",
       "      <td>59.653573</td>\n",
       "      <td>59.689862</td>\n",
       "      <td>58.758455</td>\n",
       "      <td>58.826194</td>\n",
       "      <td>73477184</td>\n",
       "      <td>0.0</td>\n",
       "      <td>1.0</td>\n",
       "    </tr>\n",
       "  </tbody>\n",
       "</table>\n",
       "</div>"
      ],
      "text/plain": [
       "   Unnamed: 0                      date   close    high     low    open  \\\n",
       "0           0  2019-10-21T00:00:00.000Z  240.51  240.99  237.32  237.52   \n",
       "1           1  2019-10-22T00:00:00.000Z  239.96  242.20  239.62  241.16   \n",
       "2           2  2019-10-23T00:00:00.000Z  243.18  243.24  241.22  242.10   \n",
       "3           3  2019-10-24T00:00:00.000Z  243.58  244.80  241.81  244.51   \n",
       "4           4  2019-10-25T00:00:00.000Z  246.58  246.73  242.88  243.16   \n",
       "\n",
       "     volume   adjClose    adjHigh     adjLow    adjOpen  adjVolume  divCash  \\\n",
       "0  21811567  58.185096  58.301219  57.413359  57.461744   87246268      0.0   \n",
       "1  22684001  58.052038  58.593947  57.969784  58.342346   90736004      0.0   \n",
       "2  19932545  58.831032  58.845548  58.356862  58.569755   79730180      0.0   \n",
       "3  17916255  58.927802  59.222949  58.499597  59.152791   71665020      0.0   \n",
       "4  18369296  59.653573  59.689862  58.758455  58.826194   73477184      0.0   \n",
       "\n",
       "   splitFactor  \n",
       "0          1.0  \n",
       "1          1.0  \n",
       "2          1.0  \n",
       "3          1.0  \n",
       "4          1.0  "
      ]
     },
     "execution_count": 21,
     "metadata": {},
     "output_type": "execute_result"
    }
   ],
   "source": [
    "df.head()"
   ]
  },
  {
   "cell_type": "code",
   "execution_count": 22,
   "id": "0da09288",
   "metadata": {},
   "outputs": [],
   "source": [
    "df1=df.reset_index()['close']"
   ]
  },
  {
   "cell_type": "code",
   "execution_count": 23,
   "id": "7bfe239b",
   "metadata": {},
   "outputs": [
    {
     "data": {
      "text/plain": [
       "(1257,)"
      ]
     },
     "execution_count": 23,
     "metadata": {},
     "output_type": "execute_result"
    }
   ],
   "source": [
    "df1.shape"
   ]
  },
  {
   "cell_type": "code",
   "execution_count": 24,
   "id": "ec94d1ad",
   "metadata": {},
   "outputs": [
    {
     "data": {
      "text/plain": [
       "[<matplotlib.lines.Line2D at 0x1796703ae90>]"
      ]
     },
     "execution_count": 24,
     "metadata": {},
     "output_type": "execute_result"
    },
    {
     "data": {
      "image/png": "[encoded data removed]",
      "text/plain": [
       "<Figure size 640x480 with 1 Axes>"
      ]
     },
     "metadata": {},
     "output_type": "display_data"
    }
   ],
   "source": [
    "import matplotlib.pyplot as plt\n",
    "plt.plot(df1)"
   ]
  },
  {
   "cell_type": "markdown",
   "id": "51925106",
   "metadata": {},
   "source": [
    "LSTM are very very sensitive to the scale of a data so we apply minmax scaler"
   ]
  },
  {
   "cell_type": "code",
   "execution_count": 25,
   "id": "069597d0",
   "metadata": {},
   "outputs": [],
   "source": [
    "from sklearn.preprocessing import MinMaxScaler\n",
    "scaler= MinMaxScaler(feature_range=(0,1))\n",
    "df1=scaler.fit_transform(np.array(df1).reshape(-1,1))"
   ]
  },
  {
   "cell_type": "code",
   "execution_count": 26,
   "id": "20bc2997",
   "metadata": {},
   "outputs": [
    {
     "data": {
      "text/plain": [
       "(1257, 1)"
      ]
     },
     "execution_count": 26,
     "metadata": {},
     "output_type": "execute_result"
    }
   ],
   "source": [
    "df1.shape"
   ]
  },
  {
   "cell_type": "code",
   "execution_count": 27,
   "id": "8d5fc396",
   "metadata": {},
   "outputs": [
    {
     "name": "stdout",
     "output_type": "stream",
     "text": [
      "[[0.33480276]\n",
      " [0.33342517]\n",
      " [0.34149029]\n",
      " ...\n",
      " [0.31812148]\n",
      " [0.31293676]\n",
      " [0.31386349]]\n"
     ]
    }
   ],
   "source": [
    "print(df1)"
   ]
  },
  {
   "cell_type": "code",
   "execution_count": 28,
   "id": "1baa103c",
   "metadata": {},
   "outputs": [],
   "source": [
    "\n",
    "##splitting dataset into train and test split\n",
    "training_size=int(len(df1)*0.65)\n",
    "test_size=len(df1)-training_size\n",
    "train_data,test_data=df1[0:training_size,:],df1[training_size:len(df1),:1]"
   ]
  },
  {
   "cell_type": "code",
   "execution_count": 29,
   "id": "9f05b8a6",
   "metadata": {},
   "outputs": [
    {
     "data": {
      "text/plain": [
       "(817, 440)"
      ]
     },
     "execution_count": 29,
     "metadata": {},
     "output_type": "execute_result"
    }
   ],
   "source": [
    "training_size,test_size\n"
   ]
  },
  {
   "cell_type": "code",
   "execution_count": 30,
   "id": "4ad19ac4",
   "metadata": {},
   "outputs": [],
   "source": [
    "\n",
    "import numpy\n",
    "# convert an array of values into a dataset matrix\n",
    "def create_dataset(dataset, time_step=1):\n",
    "\tdataX, dataY = [], []\n",
    "\tfor i in range(len(dataset)-time_step-1):\n",
    "\t\ta = dataset[i:(i+time_step), 0]   ###i=0, 0,1,2,3-----99   100 \n",
    "\t\tdataX.append(a)\n",
    "\t\tdataY.append(dataset[i + time_step, 0])\n",
    "\treturn numpy.array(dataX), numpy.array(dataY)"
   ]
  },
  {
   "cell_type": "code",
   "execution_count": 31,
   "id": "03ca3993",
   "metadata": {},
   "outputs": [],
   "source": [
    "# reshape into X=t,t+1,t+2,t+3 and Y=t+4\n",
    "time_step = 100\n",
    "X_train, y_train = create_dataset(train_data, time_step)\n",
    "X_test, ytest = create_dataset(test_data, time_step)"
   ]
  },
  {
   "cell_type": "code",
   "execution_count": 32,
   "id": "2a2c7afe",
   "metadata": {},
   "outputs": [
    {
     "name": "stdout",
     "output_type": "stream",
     "text": [
      "(716, 100)\n",
      "(716,)\n"
     ]
    },
    {
     "data": {
      "text/plain": [
       "(None, None)"
      ]
     },
     "execution_count": 32,
     "metadata": {},
     "output_type": "execute_result"
    }
   ],
   "source": [
    "print(X_train.shape), print(y_train.shape)\n"
   ]
  },
  {
   "cell_type": "code",
   "execution_count": 33,
   "id": "e7d9f4fd",
   "metadata": {},
   "outputs": [
    {
     "name": "stdout",
     "output_type": "stream",
     "text": [
      "(339, 100)\n",
      "(339,)\n"
     ]
    },
    {
     "data": {
      "text/plain": [
       "(None, None)"
      ]
     },
     "execution_count": 33,
     "metadata": {},
     "output_type": "execute_result"
    }
   ],
   "source": [
    "print(X_test.shape), print(ytest.shape)\n"
   ]
  },
  {
   "cell_type": "code",
   "execution_count": 34,
   "id": "1bd49f00",
   "metadata": {},
   "outputs": [],
   "source": [
    "# reshape input to be [samples, time steps, features] which is required for LSTM\n",
    "X_train =X_train.reshape(X_train.shape[0],X_train.shape[1] , 1)\n",
    "X_test = X_test.reshape(X_test.shape[0],X_test.shape[1] , 1)"
   ]
  },
  {
   "cell_type": "code",
   "execution_count": 35,
   "id": "de1d48f9",
   "metadata": {},
   "outputs": [
    {
     "name": "stdout",
     "output_type": "stream",
     "text": [
      "WARNING:tensorflow:From d:\\anaconda3\\Lib\\site-packages\\keras\\src\\losses.py:2976: The name tf.losses.sparse_softmax_cross_entropy is deprecated. Please use tf.compat.v1.losses.sparse_softmax_cross_entropy instead.\n",
      "\n"
     ]
    }
   ],
   "source": [
    "### Create the Stacked LSTM model\n",
    "from tensorflow.keras.models import Sequential\n",
    "from tensorflow.keras.layers import Dense\n",
    "from tensorflow.keras.layers import LSTM"
   ]
  },
  {
   "cell_type": "code",
   "execution_count": 36,
   "id": "9a46c2c5",
   "metadata": {},
   "outputs": [
    {
     "name": "stdout",
     "output_type": "stream",
     "text": [
      "WARNING:tensorflow:From d:\\anaconda3\\Lib\\site-packages\\keras\\src\\backend.py:873: The name tf.get_default_graph is deprecated. Please use tf.compat.v1.get_default_graph instead.\n",
      "\n",
      "WARNING:tensorflow:From d:\\anaconda3\\Lib\\site-packages\\keras\\src\\optimizers\\__init__.py:309: The name tf.train.Optimizer is deprecated. Please use tf.compat.v1.train.Optimizer instead.\n",
      "\n"
     ]
    }
   ],
   "source": [
    "\n",
    "model=Sequential()\n",
    "model.add(LSTM(50,return_sequences=True,input_shape=(100,1)))\n",
    "model.add(LSTM(50,return_sequences=True))\n",
    "model.add(LSTM(50))\n",
    "model.add(Dense(1))\n",
    "model.compile(loss='mean_squared_error',optimizer='adam')"
   ]
  },
  {
   "cell_type": "code",
   "execution_count": 37,
   "id": "0e1d9bd5",
   "metadata": {},
   "outputs": [
    {
     "name": "stdout",
     "output_type": "stream",
     "text": [
      "Model: \"sequential\"\n",
      "_________________________________________________________________\n",
      " Layer (type)                Output Shape              Param #   \n",
      "=================================================================\n",
      " lstm (LSTM)                 (None, 100, 50)           10400     \n",
      "                                                                 \n",
      " lstm_1 (LSTM)               (None, 100, 50)           20200     \n",
      "                                                                 \n",
      " lstm_2 (LSTM)               (None, 50)                20200     \n",
      "                                                                 \n",
      " dense (Dense)               (None, 1)                 51        \n",
      "                                                                 \n",
      "=================================================================\n",
      "Total params: 50851 (198.64 KB)\n",
      "Trainable params: 50851 (198.64 KB)\n",
      "Non-trainable params: 0 (0.00 Byte)\n",
      "_________________________________________________________________\n"
     ]
    }
   ],
   "source": [
    "model.summary()"
   ]
  },
  {
   "cell_type": "code",
   "execution_count": 38,
   "id": "88224b1a",
   "metadata": {},
   "outputs": [
    {
     "name": "stdout",
     "output_type": "stream",
     "text": [
      "Epoch 1/100\n",
      "WARNING:tensorflow:From d:\\anaconda3\\Lib\\site-packages\\keras\\src\\utils\\tf_utils.py:492: The name tf.ragged.RaggedTensorValue is deprecated. Please use tf.compat.v1.ragged.RaggedTensorValue instead.\n",
      "\n",
      "12/12 [==============================] - 7s 189ms/step - loss: 0.0289 - val_loss: 0.0027\n",
      "Epoch 2/100\n",
      "12/12 [==============================] - 1s 97ms/step - loss: 0.0161 - val_loss: 0.0017\n",
      "Epoch 3/100\n",
      "12/12 [==============================] - 1s 90ms/step - loss: 0.0125 - val_loss: 0.0032\n",
      "Epoch 4/100\n",
      "12/12 [==============================] - 1s 95ms/step - loss: 0.0098 - val_loss: 0.0013\n",
      "Epoch 5/100\n",
      "12/12 [==============================] - 1s 94ms/step - loss: 0.0092 - val_loss: 6.9601e-04\n",
      "Epoch 6/100\n",
      "12/12 [==============================] - 1s 85ms/step - loss: 0.0078 - val_loss: 3.1247e-04\n",
      "Epoch 7/100\n",
      "12/12 [==============================] - 1s 91ms/step - loss: 0.0069 - val_loss: 3.4874e-04\n",
      "Epoch 8/100\n",
      "12/12 [==============================] - 1s 91ms/step - loss: 0.0061 - val_loss: 4.8025e-04\n",
      "Epoch 9/100\n",
      "12/12 [==============================] - 1s 96ms/step - loss: 0.0061 - val_loss: 6.5624e-04\n",
      "Epoch 10/100\n",
      "12/12 [==============================] - 1s 76ms/step - loss: 0.0049 - val_loss: 2.5377e-04\n",
      "Epoch 11/100\n",
      "12/12 [==============================] - 1s 100ms/step - loss: 0.0047 - val_loss: 4.0119e-04\n",
      "Epoch 12/100\n",
      "12/12 [==============================] - 1s 91ms/step - loss: 0.0049 - val_loss: 4.6556e-04\n",
      "Epoch 13/100\n",
      "12/12 [==============================] - 1s 99ms/step - loss: 0.0044 - val_loss: 0.0018\n",
      "Epoch 14/100\n",
      "12/12 [==============================] - 1s 91ms/step - loss: 0.0040 - val_loss: 4.9612e-04\n",
      "Epoch 15/100\n",
      "12/12 [==============================] - 1s 77ms/step - loss: 0.0042 - val_loss: 0.0023\n",
      "Epoch 16/100\n",
      "12/12 [==============================] - 1s 103ms/step - loss: 0.0038 - val_loss: 4.7727e-04\n",
      "Epoch 17/100\n",
      "12/12 [==============================] - 1s 99ms/step - loss: 0.0032 - val_loss: 2.6396e-04\n",
      "Epoch 18/100\n",
      "12/12 [==============================] - 1s 83ms/step - loss: 0.0030 - val_loss: 5.2267e-04\n",
      "Epoch 19/100\n",
      "12/12 [==============================] - 1s 93ms/step - loss: 0.0023 - val_loss: 7.4997e-04\n",
      "Epoch 20/100\n",
      "12/12 [==============================] - 1s 100ms/step - loss: 0.0038 - val_loss: 2.4362e-04\n",
      "Epoch 21/100\n",
      "12/12 [==============================] - 1s 82ms/step - loss: 0.0031 - val_loss: 6.1943e-04\n",
      "Epoch 22/100\n",
      "12/12 [==============================] - 1s 85ms/step - loss: 0.0036 - val_loss: 2.3358e-04\n",
      "Epoch 23/100\n",
      "12/12 [==============================] - 1s 90ms/step - loss: 0.0030 - val_loss: 2.9857e-04\n",
      "Epoch 24/100\n",
      "12/12 [==============================] - 1s 95ms/step - loss: 0.0029 - val_loss: 2.8923e-04\n",
      "Epoch 25/100\n",
      "12/12 [==============================] - 1s 91ms/step - loss: 0.0022 - val_loss: 2.5658e-04\n",
      "Epoch 26/100\n",
      "12/12 [==============================] - 2s 170ms/step - loss: 0.0021 - val_loss: 2.3447e-04\n",
      "Epoch 27/100\n",
      "12/12 [==============================] - 2s 154ms/step - loss: 0.0022 - val_loss: 2.2624e-04\n",
      "Epoch 28/100\n",
      "12/12 [==============================] - 2s 143ms/step - loss: 0.0020 - val_loss: 4.6712e-04\n",
      "Epoch 29/100\n",
      "12/12 [==============================] - 2s 160ms/step - loss: 0.0022 - val_loss: 2.2816e-04\n",
      "Epoch 30/100\n",
      "12/12 [==============================] - 2s 165ms/step - loss: 0.0019 - val_loss: 2.3575e-04\n",
      "Epoch 31/100\n",
      "12/12 [==============================] - 2s 143ms/step - loss: 0.0018 - val_loss: 2.6794e-04\n",
      "Epoch 32/100\n",
      "12/12 [==============================] - 1s 114ms/step - loss: 0.0018 - val_loss: 2.1528e-04\n",
      "Epoch 33/100\n",
      "12/12 [==============================] - 1s 88ms/step - loss: 0.0018 - val_loss: 2.5769e-04\n",
      "Epoch 34/100\n",
      "12/12 [==============================] - 1s 100ms/step - loss: 0.0017 - val_loss: 2.7045e-04\n",
      "Epoch 35/100\n",
      "12/12 [==============================] - 1s 89ms/step - loss: 0.0020 - val_loss: 4.9128e-04\n",
      "Epoch 36/100\n",
      "12/12 [==============================] - 1s 94ms/step - loss: 0.0024 - val_loss: 2.7606e-04\n",
      "Epoch 37/100\n",
      "12/12 [==============================] - 1s 92ms/step - loss: 0.0017 - val_loss: 4.4025e-04\n",
      "Epoch 38/100\n",
      "12/12 [==============================] - 2s 142ms/step - loss: 0.0021 - val_loss: 2.1754e-04\n",
      "Epoch 39/100\n",
      "12/12 [==============================] - 2s 173ms/step - loss: 0.0018 - val_loss: 3.8996e-04\n",
      "Epoch 40/100\n",
      "12/12 [==============================] - 2s 144ms/step - loss: 0.0024 - val_loss: 2.2203e-04\n",
      "Epoch 41/100\n",
      "12/12 [==============================] - 2s 128ms/step - loss: 0.0021 - val_loss: 3.2127e-04\n",
      "Epoch 42/100\n",
      "12/12 [==============================] - 2s 135ms/step - loss: 0.0019 - val_loss: 2.2150e-04\n",
      "Epoch 43/100\n",
      "12/12 [==============================] - 2s 129ms/step - loss: 0.0018 - val_loss: 2.3700e-04\n",
      "Epoch 44/100\n",
      "12/12 [==============================] - 2s 156ms/step - loss: 0.0017 - val_loss: 2.2287e-04\n",
      "Epoch 45/100\n",
      "12/12 [==============================] - 2s 155ms/step - loss: 0.0016 - val_loss: 2.4823e-04\n",
      "Epoch 46/100\n",
      "12/12 [==============================] - 2s 131ms/step - loss: 0.0016 - val_loss: 2.2017e-04\n",
      "Epoch 47/100\n",
      "12/12 [==============================] - 2s 149ms/step - loss: 0.0014 - val_loss: 2.3917e-04\n",
      "Epoch 48/100\n",
      "12/12 [==============================] - 2s 133ms/step - loss: 0.0017 - val_loss: 3.1382e-04\n",
      "Epoch 49/100\n",
      "12/12 [==============================] - 1s 87ms/step - loss: 0.0015 - val_loss: 2.6029e-04\n",
      "Epoch 50/100\n",
      "12/12 [==============================] - 1s 89ms/step - loss: 0.0016 - val_loss: 2.9346e-04\n",
      "Epoch 51/100\n",
      "12/12 [==============================] - 1s 88ms/step - loss: 0.0014 - val_loss: 2.5991e-04\n",
      "Epoch 52/100\n",
      "12/12 [==============================] - 1s 88ms/step - loss: 0.0012 - val_loss: 2.1809e-04\n",
      "Epoch 53/100\n",
      "12/12 [==============================] - 1s 86ms/step - loss: 0.0014 - val_loss: 3.2917e-04\n",
      "Epoch 54/100\n",
      "12/12 [==============================] - 1s 93ms/step - loss: 0.0015 - val_loss: 2.9217e-04\n",
      "Epoch 55/100\n",
      "12/12 [==============================] - 1s 100ms/step - loss: 0.0017 - val_loss: 2.1704e-04\n",
      "Epoch 56/100\n",
      "12/12 [==============================] - 1s 100ms/step - loss: 0.0018 - val_loss: 2.4598e-04\n",
      "Epoch 57/100\n",
      "12/12 [==============================] - 1s 98ms/step - loss: 0.0034 - val_loss: 2.2010e-04\n",
      "Epoch 58/100\n",
      "12/12 [==============================] - 1s 93ms/step - loss: 0.0037 - val_loss: 3.6220e-04\n",
      "Epoch 59/100\n",
      "12/12 [==============================] - 1s 94ms/step - loss: 0.0037 - val_loss: 0.0012\n",
      "Epoch 60/100\n",
      "12/12 [==============================] - 1s 91ms/step - loss: 0.0017 - val_loss: 2.6956e-04\n",
      "Epoch 61/100\n",
      "12/12 [==============================] - 1s 119ms/step - loss: 0.0019 - val_loss: 2.5135e-04\n",
      "Epoch 62/100\n",
      "12/12 [==============================] - 1s 103ms/step - loss: 0.0017 - val_loss: 2.2552e-04\n",
      "Epoch 63/100\n",
      "12/12 [==============================] - 1s 122ms/step - loss: 0.0015 - val_loss: 2.1916e-04\n",
      "Epoch 64/100\n",
      "12/12 [==============================] - 2s 154ms/step - loss: 0.0021 - val_loss: 2.8137e-04\n",
      "Epoch 65/100\n",
      "12/12 [==============================] - 2s 158ms/step - loss: 0.0016 - val_loss: 2.6947e-04\n",
      "Epoch 66/100\n",
      "12/12 [==============================] - 2s 150ms/step - loss: 0.0017 - val_loss: 2.0795e-04\n",
      "Epoch 67/100\n",
      "12/12 [==============================] - 2s 138ms/step - loss: 0.0012 - val_loss: 3.6059e-04\n",
      "Epoch 68/100\n",
      "12/12 [==============================] - 2s 163ms/step - loss: 0.0014 - val_loss: 2.7460e-04\n",
      "Epoch 69/100\n",
      "12/12 [==============================] - 2s 145ms/step - loss: 0.0015 - val_loss: 2.5727e-04\n",
      "Epoch 70/100\n",
      "12/12 [==============================] - 2s 145ms/step - loss: 0.0017 - val_loss: 3.0917e-04\n",
      "Epoch 71/100\n",
      "12/12 [==============================] - 2s 136ms/step - loss: 0.0012 - val_loss: 2.1306e-04\n",
      "Epoch 72/100\n",
      "12/12 [==============================] - 2s 174ms/step - loss: 0.0014 - val_loss: 2.0659e-04\n",
      "Epoch 73/100\n",
      "12/12 [==============================] - 2s 150ms/step - loss: 0.0015 - val_loss: 2.2415e-04\n",
      "Epoch 74/100\n",
      "12/12 [==============================] - 1s 116ms/step - loss: 0.0066 - val_loss: 7.8506e-04\n",
      "Epoch 75/100\n",
      "12/12 [==============================] - 2s 136ms/step - loss: 0.0044 - val_loss: 0.0011\n",
      "Epoch 76/100\n",
      "12/12 [==============================] - 2s 142ms/step - loss: 0.0025 - val_loss: 2.1096e-04\n",
      "Epoch 77/100\n",
      "12/12 [==============================] - 2s 142ms/step - loss: 0.0019 - val_loss: 3.1092e-04\n",
      "Epoch 78/100\n",
      "12/12 [==============================] - 2s 145ms/step - loss: 0.0013 - val_loss: 1.9434e-04\n",
      "Epoch 79/100\n",
      "12/12 [==============================] - 2s 148ms/step - loss: 0.0016 - val_loss: 2.2812e-04\n",
      "Epoch 80/100\n",
      "12/12 [==============================] - 2s 135ms/step - loss: 0.0014 - val_loss: 2.9002e-04\n",
      "Epoch 81/100\n",
      "12/12 [==============================] - 2s 147ms/step - loss: 0.0013 - val_loss: 2.8555e-04\n",
      "Epoch 82/100\n",
      "12/12 [==============================] - 2s 164ms/step - loss: 0.0022 - val_loss: 9.6957e-04\n",
      "Epoch 83/100\n",
      "12/12 [==============================] - 2s 183ms/step - loss: 0.0034 - val_loss: 4.2694e-04\n",
      "Epoch 84/100\n",
      "12/12 [==============================] - 2s 167ms/step - loss: 0.0022 - val_loss: 2.0131e-04\n",
      "Epoch 85/100\n",
      "12/12 [==============================] - 2s 132ms/step - loss: 0.0015 - val_loss: 2.5121e-04\n",
      "Epoch 86/100\n",
      "12/12 [==============================] - 1s 124ms/step - loss: 0.0011 - val_loss: 2.7978e-04\n",
      "Epoch 87/100\n",
      "12/12 [==============================] - 2s 134ms/step - loss: 0.0011 - val_loss: 1.9596e-04\n",
      "Epoch 88/100\n",
      "12/12 [==============================] - 2s 153ms/step - loss: 0.0012 - val_loss: 1.9809e-04\n",
      "Epoch 89/100\n",
      "12/12 [==============================] - 2s 155ms/step - loss: 0.0010 - val_loss: 4.6281e-04\n",
      "Epoch 90/100\n",
      "12/12 [==============================] - 2s 169ms/step - loss: 0.0012 - val_loss: 2.7252e-04\n",
      "Epoch 91/100\n",
      "12/12 [==============================] - 2s 139ms/step - loss: 0.0013 - val_loss: 1.8696e-04\n",
      "Epoch 92/100\n",
      "12/12 [==============================] - 2s 157ms/step - loss: 0.0011 - val_loss: 2.4353e-04\n",
      "Epoch 93/100\n",
      "12/12 [==============================] - 2s 167ms/step - loss: 0.0011 - val_loss: 2.1528e-04\n",
      "Epoch 94/100\n",
      "12/12 [==============================] - 2s 138ms/step - loss: 0.0013 - val_loss: 1.7623e-04\n",
      "Epoch 95/100\n",
      "12/12 [==============================] - 2s 159ms/step - loss: 9.5727e-04 - val_loss: 2.1726e-04\n",
      "Epoch 96/100\n",
      "12/12 [==============================] - 2s 160ms/step - loss: 7.9864e-04 - val_loss: 1.8638e-04\n",
      "Epoch 97/100\n",
      "12/12 [==============================] - 2s 136ms/step - loss: 0.0028 - val_loss: 2.5124e-04\n",
      "Epoch 98/100\n",
      "12/12 [==============================] - 2s 137ms/step - loss: 0.0021 - val_loss: 4.0514e-04\n",
      "Epoch 99/100\n",
      "12/12 [==============================] - 2s 152ms/step - loss: 0.0015 - val_loss: 1.8511e-04\n",
      "Epoch 100/100\n",
      "12/12 [==============================] - 2s 178ms/step - loss: 0.0016 - val_loss: 1.6876e-04\n"
     ]
    },
    {
     "data": {
      "text/plain": [
       "<keras.src.callbacks.History at 0x17976c3e310>"
      ]
     },
     "execution_count": 38,
     "metadata": {},
     "output_type": "execute_result"
    }
   ],
   "source": [
    "model.fit(X_train,y_train,validation_data=(X_test,ytest),epochs=100,batch_size=64,verbose=1)"
   ]
  },
  {
   "cell_type": "code",
   "execution_count": 39,
   "id": "2cd411c5",
   "metadata": {},
   "outputs": [],
   "source": [
    "import tensorflow as tf\n"
   ]
  },
  {
   "cell_type": "code",
   "execution_count": 40,
   "id": "af7f4b28",
   "metadata": {},
   "outputs": [
    {
     "data": {
      "text/plain": [
       "'2.15.0'"
      ]
     },
     "execution_count": 40,
     "metadata": {},
     "output_type": "execute_result"
    }
   ],
   "source": [
    "tf.__version__\n"
   ]
  },
  {
   "cell_type": "code",
   "execution_count": 41,
   "id": "b257ed80",
   "metadata": {},
   "outputs": [
    {
     "name": "stdout",
     "output_type": "stream",
     "text": [
      "23/23 [==============================] - 2s 44ms/step\n",
      "11/11 [==============================] - 0s 30ms/step\n"
     ]
    }
   ],
   "source": [
    "### Lets Do the prediction and check performance metrics\n",
    "train_predict=model.predict(X_train)\n",
    "test_predict=model.predict(X_test)\n"
   ]
  },
  {
   "cell_type": "code",
   "execution_count": 42,
   "id": "5b98617e",
   "metadata": {},
   "outputs": [],
   "source": [
    "##Transformback to original form\n",
    "train_predict=scaler.inverse_transform(train_predict)\n",
    "test_predict=scaler.inverse_transform(test_predict)"
   ]
  },
  {
   "cell_type": "code",
   "execution_count": 43,
   "id": "7807b135",
   "metadata": {},
   "outputs": [
    {
     "data": {
      "text/plain": [
       "193.7341504535479"
      ]
     },
     "execution_count": 43,
     "metadata": {},
     "output_type": "execute_result"
    }
   ],
   "source": [
    "### Calculate RMSE performance metrics\n",
    "import math\n",
    "from sklearn.metrics import mean_squared_error\n",
    "math.sqrt(mean_squared_error(y_train,train_predict))"
   ]
  },
  {
   "cell_type": "code",
   "execution_count": 44,
   "id": "1581fb34",
   "metadata": {},
   "outputs": [
    {
     "data": {
      "text/plain": [
       "194.4174337730909"
      ]
     },
     "execution_count": 44,
     "metadata": {},
     "output_type": "execute_result"
    }
   ],
   "source": [
    "### Test Data RMSE\n",
    "math.sqrt(mean_squared_error(ytest,test_predict))"
   ]
  },
  {
   "cell_type": "code",
   "execution_count": 45,
   "id": "8578a8ef",
   "metadata": {},
   "outputs": [
    {
     "data": {
      "image/png": "[encoded data removed]",
      "text/plain": [
       "<Figure size 640x480 with 1 Axes>"
      ]
     },
     "metadata": {},
     "output_type": "display_data"
    }
   ],
   "source": [
    "### Plotting \n",
    "# shift train predictions for plotting\n",
    "look_back=100\n",
    "trainPredictPlot = numpy.empty_like(df1)\n",
    "trainPredictPlot[:, :] = np.nan\n",
    "trainPredictPlot[look_back:len(train_predict)+look_back, :] = train_predict\n",
    "# shift test predictions for plotting\n",
    "testPredictPlot = numpy.empty_like(df1)\n",
    "testPredictPlot[:, :] = numpy.nan\n",
    "testPredictPlot[len(train_predict)+(look_back*2)+1:len(df1)-1, :] = test_predict\n",
    "# plot baseline and predictions\n",
    "plt.plot(scaler.inverse_transform(df1))\n",
    "plt.plot(trainPredictPlot)\n",
    "plt.plot(testPredictPlot)\n",
    "plt.show()"
   ]
  },
  {
   "cell_type": "code",
   "execution_count": 46,
   "id": "2ff5f20d",
   "metadata": {},
   "outputs": [
    {
     "data": {
      "text/plain": [
       "440"
      ]
     },
     "execution_count": 46,
     "metadata": {},
     "output_type": "execute_result"
    }
   ],
   "source": [
    "len(test_data)\n"
   ]
  },
  {
   "cell_type": "markdown",
   "id": "4185988b",
   "metadata": {},
   "source": [
    "predicting next 100 days vallue"
   ]
  },
  {
   "cell_type": "code",
   "execution_count": 51,
   "id": "594677f8",
   "metadata": {},
   "outputs": [
    {
     "data": {
      "text/plain": [
       "(1, 100)"
      ]
     },
     "execution_count": 51,
     "metadata": {},
     "output_type": "execute_result"
    }
   ],
   "source": [
    "x_input=test_data[340:].reshape(1,-1)\n",
    "x_input.shape"
   ]
  },
  {
   "cell_type": "code",
   "execution_count": 52,
   "id": "845ad22b",
   "metadata": {},
   "outputs": [],
   "source": [
    "temp_input=list(x_input)\n",
    "temp_input=temp_input[0].tolist()"
   ]
  },
  {
   "cell_type": "code",
   "execution_count": 53,
   "id": "33d11437",
   "metadata": {},
   "outputs": [
    {
     "data": {
      "text/plain": [
       "[0.2082654978083907,\n",
       " 0.20901690670006257,\n",
       " 0.2115216030056355,\n",
       " 0.21392611145898555,\n",
       " 0.2183844708829054,\n",
       " 0.2191859737006887,\n",
       " 0.22299311208515965,\n",
       " 0.21951158422041323,\n",
       " 0.22554790231684402,\n",
       " 0.216105197244834,\n",
       " 0.25124608641202256,\n",
       " 0.2660738885410144,\n",
       " 0.26900438321853476,\n",
       " 0.2646211646837821,\n",
       " 0.275090795241077,\n",
       " 0.26912961803381336,\n",
       " 0.2575829680651221,\n",
       " 0.25209768315591735,\n",
       " 0.25372573575453966,\n",
       " 0.25605510331872255,\n",
       " 0.26652473387601744,\n",
       " 0.26865372573575447,\n",
       " 0.2599373825923606,\n",
       " 0.27529117094552286,\n",
       " 0.2841077019411396,\n",
       " 0.287313713212273,\n",
       " 0.29931120851596743,\n",
       " 0.30301815904821533,\n",
       " 0.3051721978710081,\n",
       " 0.3159423919849717,\n",
       " 0.3023919849718221,\n",
       " 0.30983093299937375,\n",
       " 0.3194990607388854,\n",
       " 0.32055103318722594,\n",
       " 0.3056731371321227,\n",
       " 0.29390106449592984,\n",
       " 0.2942266750156543,\n",
       " 0.2933500313087038,\n",
       " 0.2959799624295553,\n",
       " 0.2797745773324984,\n",
       " 0.27714464621164686,\n",
       " 0.2783218534752661,\n",
       " 0.2790231684408265,\n",
       " 0.2804257983719474,\n",
       " 0.2886412022542267,\n",
       " 0.27932373199749533,\n",
       " 0.28308077645585467,\n",
       " 0.25655604257983716,\n",
       " 0.2514464621164683,\n",
       " 0.2579336255479023,\n",
       " 0.26667501565435187,\n",
       " 0.2740137758296806,\n",
       " 0.27724483406386974,\n",
       " 0.28661239824671253,\n",
       " 0.28773951158422034,\n",
       " 0.29525360050093924,\n",
       " 0.29858484658735124,\n",
       " 0.2981840951784595,\n",
       " 0.29973700688791477,\n",
       " 0.29946149029430175,\n",
       " 0.29477770820288035,\n",
       " 0.30056355666875384,\n",
       " 0.30141515341264863,\n",
       " 0.30354414527238566,\n",
       " 0.29968691296180333,\n",
       " 0.30795241077019403,\n",
       " 0.30597370068879143,\n",
       " 0.290369442705072,\n",
       " 0.2855604257983719,\n",
       " 0.2893926111458985,\n",
       " 0.2854852849092047,\n",
       " 0.2857107075767063,\n",
       " 0.283706950532248,\n",
       " 0.29009392611145896,\n",
       " 0.290369442705072,\n",
       " 0.2896931747025672,\n",
       " 0.27421415153412637,\n",
       " 0.27539135879774573,\n",
       " 0.28515967438948026,\n",
       " 0.30564809016906697,\n",
       " 0.303969943644333,\n",
       " 0.2996368190356919,\n",
       " 0.3018910457107075,\n",
       " 0.2993863494051346,\n",
       " 0.30226675015654353,\n",
       " 0.30294301815904817,\n",
       " 0.31599248591108325,\n",
       " 0.29898559799624297,\n",
       " 0.3004132748904195,\n",
       " 0.29763306199123346,\n",
       " 0.30046336881653096,\n",
       " 0.2876643706950532,\n",
       " 0.2978835316217909,\n",
       " 0.3073262366938008,\n",
       " 0.3060738885410143,\n",
       " 0.3023418910457107,\n",
       " 0.3117345021916092,\n",
       " 0.31812147777082017,\n",
       " 0.3129367564182843,\n",
       " 0.3138634940513462]"
      ]
     },
     "execution_count": 53,
     "metadata": {},
     "output_type": "execute_result"
    }
   ],
   "source": [
    "temp_input"
   ]
  },
  {
   "cell_type": "code",
   "execution_count": 54,
   "id": "8cb8a033",
   "metadata": {},
   "outputs": [
    {
     "name": "stdout",
     "output_type": "stream",
     "text": [
      "[0.30949903]\n",
      "101\n",
      "1 day input [0.20901691 0.2115216  0.21392611 0.21838447 0.21918597 0.22299311\n",
      " 0.21951158 0.2255479  0.2161052  0.25124609 0.26607389 0.26900438\n",
      " 0.26462116 0.2750908  0.26912962 0.25758297 0.25209768 0.25372574\n",
      " 0.2560551  0.26652473 0.26865373 0.25993738 0.27529117 0.2841077\n",
      " 0.28731371 0.29931121 0.30301816 0.3051722  0.31594239 0.30239198\n",
      " 0.30983093 0.31949906 0.32055103 0.30567314 0.29390106 0.29422668\n",
      " 0.29335003 0.29597996 0.27977458 0.27714465 0.27832185 0.27902317\n",
      " 0.2804258  0.2886412  0.27932373 0.28308078 0.25655604 0.25144646\n",
      " 0.25793363 0.26667502 0.27401378 0.27724483 0.2866124  0.28773951\n",
      " 0.2952536  0.29858485 0.2981841  0.29973701 0.29946149 0.29477771\n",
      " 0.30056356 0.30141515 0.30354415 0.29968691 0.30795241 0.3059737\n",
      " 0.29036944 0.28556043 0.28939261 0.28548528 0.28571071 0.28370695\n",
      " 0.29009393 0.29036944 0.28969317 0.27421415 0.27539136 0.28515967\n",
      " 0.30564809 0.30396994 0.29963682 0.30189105 0.29938635 0.30226675\n",
      " 0.30294302 0.31599249 0.2989856  0.30041327 0.29763306 0.30046337\n",
      " 0.28766437 0.29788353 0.30732624 0.30607389 0.30234189 0.3117345\n",
      " 0.31812148 0.31293676 0.31386349 0.30949903]\n",
      "1 day output [[0.31079638]]\n",
      "2 day input [0.2115216  0.21392611 0.21838447 0.21918597 0.22299311 0.21951158\n",
      " 0.2255479  0.2161052  0.25124609 0.26607389 0.26900438 0.26462116\n",
      " 0.2750908  0.26912962 0.25758297 0.25209768 0.25372574 0.2560551\n",
      " 0.26652473 0.26865373 0.25993738 0.27529117 0.2841077  0.28731371\n",
      " 0.29931121 0.30301816 0.3051722  0.31594239 0.30239198 0.30983093\n",
      " 0.31949906 0.32055103 0.30567314 0.29390106 0.29422668 0.29335003\n",
      " 0.29597996 0.27977458 0.27714465 0.27832185 0.27902317 0.2804258\n",
      " 0.2886412  0.27932373 0.28308078 0.25655604 0.25144646 0.25793363\n",
      " 0.26667502 0.27401378 0.27724483 0.2866124  0.28773951 0.2952536\n",
      " 0.29858485 0.2981841  0.29973701 0.29946149 0.29477771 0.30056356\n",
      " 0.30141515 0.30354415 0.29968691 0.30795241 0.3059737  0.29036944\n",
      " 0.28556043 0.28939261 0.28548528 0.28571071 0.28370695 0.29009393\n",
      " 0.29036944 0.28969317 0.27421415 0.27539136 0.28515967 0.30564809\n",
      " 0.30396994 0.29963682 0.30189105 0.29938635 0.30226675 0.30294302\n",
      " 0.31599249 0.2989856  0.30041327 0.29763306 0.30046337 0.28766437\n",
      " 0.29788353 0.30732624 0.30607389 0.30234189 0.3117345  0.31812148\n",
      " 0.31293676 0.31386349 0.30949903 0.31079638]\n",
      "2 day output [[0.31151694]]\n",
      "3 day input [0.21392611 0.21838447 0.21918597 0.22299311 0.21951158 0.2255479\n",
      " 0.2161052  0.25124609 0.26607389 0.26900438 0.26462116 0.2750908\n",
      " 0.26912962 0.25758297 0.25209768 0.25372574 0.2560551  0.26652473\n",
      " 0.26865373 0.25993738 0.27529117 0.2841077  0.28731371 0.29931121\n",
      " 0.30301816 0.3051722  0.31594239 0.30239198 0.30983093 0.31949906\n",
      " 0.32055103 0.30567314 0.29390106 0.29422668 0.29335003 0.29597996\n",
      " 0.27977458 0.27714465 0.27832185 0.27902317 0.2804258  0.2886412\n",
      " 0.27932373 0.28308078 0.25655604 0.25144646 0.25793363 0.26667502\n",
      " 0.27401378 0.27724483 0.2866124  0.28773951 0.2952536  0.29858485\n",
      " 0.2981841  0.29973701 0.29946149 0.29477771 0.30056356 0.30141515\n",
      " 0.30354415 0.29968691 0.30795241 0.3059737  0.29036944 0.28556043\n",
      " 0.28939261 0.28548528 0.28571071 0.28370695 0.29009393 0.29036944\n",
      " 0.28969317 0.27421415 0.27539136 0.28515967 0.30564809 0.30396994\n",
      " 0.29963682 0.30189105 0.29938635 0.30226675 0.30294302 0.31599249\n",
      " 0.2989856  0.30041327 0.29763306 0.30046337 0.28766437 0.29788353\n",
      " 0.30732624 0.30607389 0.30234189 0.3117345  0.31812148 0.31293676\n",
      " 0.31386349 0.30949903 0.31079638 0.31151694]\n",
      "3 day output [[0.3119164]]\n",
      "4 day input [0.21838447 0.21918597 0.22299311 0.21951158 0.2255479  0.2161052\n",
      " 0.25124609 0.26607389 0.26900438 0.26462116 0.2750908  0.26912962\n",
      " 0.25758297 0.25209768 0.25372574 0.2560551  0.26652473 0.26865373\n",
      " 0.25993738 0.27529117 0.2841077  0.28731371 0.29931121 0.30301816\n",
      " 0.3051722  0.31594239 0.30239198 0.30983093 0.31949906 0.32055103\n",
      " 0.30567314 0.29390106 0.29422668 0.29335003 0.29597996 0.27977458\n",
      " 0.27714465 0.27832185 0.27902317 0.2804258  0.2886412  0.27932373\n",
      " 0.28308078 0.25655604 0.25144646 0.25793363 0.26667502 0.27401378\n",
      " 0.27724483 0.2866124  0.28773951 0.2952536  0.29858485 0.2981841\n",
      " 0.29973701 0.29946149 0.29477771 0.30056356 0.30141515 0.30354415\n",
      " 0.29968691 0.30795241 0.3059737  0.29036944 0.28556043 0.28939261\n",
      " 0.28548528 0.28571071 0.28370695 0.29009393 0.29036944 0.28969317\n",
      " 0.27421415 0.27539136 0.28515967 0.30564809 0.30396994 0.29963682\n",
      " 0.30189105 0.29938635 0.30226675 0.30294302 0.31599249 0.2989856\n",
      " 0.30041327 0.29763306 0.30046337 0.28766437 0.29788353 0.30732624\n",
      " 0.30607389 0.30234189 0.3117345  0.31812148 0.31293676 0.31386349\n",
      " 0.30949903 0.31079638 0.31151694 0.31191641]\n",
      "4 day output [[0.31217277]]\n",
      "5 day input [0.21918597 0.22299311 0.21951158 0.2255479  0.2161052  0.25124609\n",
      " 0.26607389 0.26900438 0.26462116 0.2750908  0.26912962 0.25758297\n",
      " 0.25209768 0.25372574 0.2560551  0.26652473 0.26865373 0.25993738\n",
      " 0.27529117 0.2841077  0.28731371 0.29931121 0.30301816 0.3051722\n",
      " 0.31594239 0.30239198 0.30983093 0.31949906 0.32055103 0.30567314\n",
      " 0.29390106 0.29422668 0.29335003 0.29597996 0.27977458 0.27714465\n",
      " 0.27832185 0.27902317 0.2804258  0.2886412  0.27932373 0.28308078\n",
      " 0.25655604 0.25144646 0.25793363 0.26667502 0.27401378 0.27724483\n",
      " 0.2866124  0.28773951 0.2952536  0.29858485 0.2981841  0.29973701\n",
      " 0.29946149 0.29477771 0.30056356 0.30141515 0.30354415 0.29968691\n",
      " 0.30795241 0.3059737  0.29036944 0.28556043 0.28939261 0.28548528\n",
      " 0.28571071 0.28370695 0.29009393 0.29036944 0.28969317 0.27421415\n",
      " 0.27539136 0.28515967 0.30564809 0.30396994 0.29963682 0.30189105\n",
      " 0.29938635 0.30226675 0.30294302 0.31599249 0.2989856  0.30041327\n",
      " 0.29763306 0.30046337 0.28766437 0.29788353 0.30732624 0.30607389\n",
      " 0.30234189 0.3117345  0.31812148 0.31293676 0.31386349 0.30949903\n",
      " 0.31079638 0.31151694 0.31191641 0.31217277]\n",
      "5 day output [[0.31238592]]\n",
      "6 day input [0.22299311 0.21951158 0.2255479  0.2161052  0.25124609 0.26607389\n",
      " 0.26900438 0.26462116 0.2750908  0.26912962 0.25758297 0.25209768\n",
      " 0.25372574 0.2560551  0.26652473 0.26865373 0.25993738 0.27529117\n",
      " 0.2841077  0.28731371 0.29931121 0.30301816 0.3051722  0.31594239\n",
      " 0.30239198 0.30983093 0.31949906 0.32055103 0.30567314 0.29390106\n",
      " 0.29422668 0.29335003 0.29597996 0.27977458 0.27714465 0.27832185\n",
      " 0.27902317 0.2804258  0.2886412  0.27932373 0.28308078 0.25655604\n",
      " 0.25144646 0.25793363 0.26667502 0.27401378 0.27724483 0.2866124\n",
      " 0.28773951 0.2952536  0.29858485 0.2981841  0.29973701 0.29946149\n",
      " 0.29477771 0.30056356 0.30141515 0.30354415 0.29968691 0.30795241\n",
      " 0.3059737  0.29036944 0.28556043 0.28939261 0.28548528 0.28571071\n",
      " 0.28370695 0.29009393 0.29036944 0.28969317 0.27421415 0.27539136\n",
      " 0.28515967 0.30564809 0.30396994 0.29963682 0.30189105 0.29938635\n",
      " 0.30226675 0.30294302 0.31599249 0.2989856  0.30041327 0.29763306\n",
      " 0.30046337 0.28766437 0.29788353 0.30732624 0.30607389 0.30234189\n",
      " 0.3117345  0.31812148 0.31293676 0.31386349 0.30949903 0.31079638\n",
      " 0.31151694 0.31191641 0.31217277 0.31238592]\n",
      "6 day output [[0.31260222]]\n",
      "7 day input [0.21951158 0.2255479  0.2161052  0.25124609 0.26607389 0.26900438\n",
      " 0.26462116 0.2750908  0.26912962 0.25758297 0.25209768 0.25372574\n",
      " 0.2560551  0.26652473 0.26865373 0.25993738 0.27529117 0.2841077\n",
      " 0.28731371 0.29931121 0.30301816 0.3051722  0.31594239 0.30239198\n",
      " 0.30983093 0.31949906 0.32055103 0.30567314 0.29390106 0.29422668\n",
      " 0.29335003 0.29597996 0.27977458 0.27714465 0.27832185 0.27902317\n",
      " 0.2804258  0.2886412  0.27932373 0.28308078 0.25655604 0.25144646\n",
      " 0.25793363 0.26667502 0.27401378 0.27724483 0.2866124  0.28773951\n",
      " 0.2952536  0.29858485 0.2981841  0.29973701 0.29946149 0.29477771\n",
      " 0.30056356 0.30141515 0.30354415 0.29968691 0.30795241 0.3059737\n",
      " 0.29036944 0.28556043 0.28939261 0.28548528 0.28571071 0.28370695\n",
      " 0.29009393 0.29036944 0.28969317 0.27421415 0.27539136 0.28515967\n",
      " 0.30564809 0.30396994 0.29963682 0.30189105 0.29938635 0.30226675\n",
      " 0.30294302 0.31599249 0.2989856  0.30041327 0.29763306 0.30046337\n",
      " 0.28766437 0.29788353 0.30732624 0.30607389 0.30234189 0.3117345\n",
      " 0.31812148 0.31293676 0.31386349 0.30949903 0.31079638 0.31151694\n",
      " 0.31191641 0.31217277 0.31238592 0.31260222]\n",
      "7 day output [[0.3128363]]\n",
      "8 day input [0.2255479  0.2161052  0.25124609 0.26607389 0.26900438 0.26462116\n",
      " 0.2750908  0.26912962 0.25758297 0.25209768 0.25372574 0.2560551\n",
      " 0.26652473 0.26865373 0.25993738 0.27529117 0.2841077  0.28731371\n",
      " 0.29931121 0.30301816 0.3051722  0.31594239 0.30239198 0.30983093\n",
      " 0.31949906 0.32055103 0.30567314 0.29390106 0.29422668 0.29335003\n",
      " 0.29597996 0.27977458 0.27714465 0.27832185 0.27902317 0.2804258\n",
      " 0.2886412  0.27932373 0.28308078 0.25655604 0.25144646 0.25793363\n",
      " 0.26667502 0.27401378 0.27724483 0.2866124  0.28773951 0.2952536\n",
      " 0.29858485 0.2981841  0.29973701 0.29946149 0.29477771 0.30056356\n",
      " 0.30141515 0.30354415 0.29968691 0.30795241 0.3059737  0.29036944\n",
      " 0.28556043 0.28939261 0.28548528 0.28571071 0.28370695 0.29009393\n",
      " 0.29036944 0.28969317 0.27421415 0.27539136 0.28515967 0.30564809\n",
      " 0.30396994 0.29963682 0.30189105 0.29938635 0.30226675 0.30294302\n",
      " 0.31599249 0.2989856  0.30041327 0.29763306 0.30046337 0.28766437\n",
      " 0.29788353 0.30732624 0.30607389 0.30234189 0.3117345  0.31812148\n",
      " 0.31293676 0.31386349 0.30949903 0.31079638 0.31151694 0.31191641\n",
      " 0.31217277 0.31238592 0.31260222 0.31283629]\n",
      "8 day output [[0.31308615]]\n",
      "9 day input [0.2161052  0.25124609 0.26607389 0.26900438 0.26462116 0.2750908\n",
      " 0.26912962 0.25758297 0.25209768 0.25372574 0.2560551  0.26652473\n",
      " 0.26865373 0.25993738 0.27529117 0.2841077  0.28731371 0.29931121\n",
      " 0.30301816 0.3051722  0.31594239 0.30239198 0.30983093 0.31949906\n",
      " 0.32055103 0.30567314 0.29390106 0.29422668 0.29335003 0.29597996\n",
      " 0.27977458 0.27714465 0.27832185 0.27902317 0.2804258  0.2886412\n",
      " 0.27932373 0.28308078 0.25655604 0.25144646 0.25793363 0.26667502\n",
      " 0.27401378 0.27724483 0.2866124  0.28773951 0.2952536  0.29858485\n",
      " 0.2981841  0.29973701 0.29946149 0.29477771 0.30056356 0.30141515\n",
      " 0.30354415 0.29968691 0.30795241 0.3059737  0.29036944 0.28556043\n",
      " 0.28939261 0.28548528 0.28571071 0.28370695 0.29009393 0.29036944\n",
      " 0.28969317 0.27421415 0.27539136 0.28515967 0.30564809 0.30396994\n",
      " 0.29963682 0.30189105 0.29938635 0.30226675 0.30294302 0.31599249\n",
      " 0.2989856  0.30041327 0.29763306 0.30046337 0.28766437 0.29788353\n",
      " 0.30732624 0.30607389 0.30234189 0.3117345  0.31812148 0.31293676\n",
      " 0.31386349 0.30949903 0.31079638 0.31151694 0.31191641 0.31217277\n",
      " 0.31238592 0.31260222 0.31283629 0.31308615]\n",
      "9 day output [[0.31334275]]\n",
      "10 day input [0.25124609 0.26607389 0.26900438 0.26462116 0.2750908  0.26912962\n",
      " 0.25758297 0.25209768 0.25372574 0.2560551  0.26652473 0.26865373\n",
      " 0.25993738 0.27529117 0.2841077  0.28731371 0.29931121 0.30301816\n",
      " 0.3051722  0.31594239 0.30239198 0.30983093 0.31949906 0.32055103\n",
      " 0.30567314 0.29390106 0.29422668 0.29335003 0.29597996 0.27977458\n",
      " 0.27714465 0.27832185 0.27902317 0.2804258  0.2886412  0.27932373\n",
      " 0.28308078 0.25655604 0.25144646 0.25793363 0.26667502 0.27401378\n",
      " 0.27724483 0.2866124  0.28773951 0.2952536  0.29858485 0.2981841\n",
      " 0.29973701 0.29946149 0.29477771 0.30056356 0.30141515 0.30354415\n",
      " 0.29968691 0.30795241 0.3059737  0.29036944 0.28556043 0.28939261\n",
      " 0.28548528 0.28571071 0.28370695 0.29009393 0.29036944 0.28969317\n",
      " 0.27421415 0.27539136 0.28515967 0.30564809 0.30396994 0.29963682\n",
      " 0.30189105 0.29938635 0.30226675 0.30294302 0.31599249 0.2989856\n",
      " 0.30041327 0.29763306 0.30046337 0.28766437 0.29788353 0.30732624\n",
      " 0.30607389 0.30234189 0.3117345  0.31812148 0.31293676 0.31386349\n",
      " 0.30949903 0.31079638 0.31151694 0.31191641 0.31217277 0.31238592\n",
      " 0.31260222 0.31283629 0.31308615 0.31334275]\n",
      "10 day output [[0.31359506]]\n",
      "11 day input [0.26607389 0.26900438 0.26462116 0.2750908  0.26912962 0.25758297\n",
      " 0.25209768 0.25372574 0.2560551  0.26652473 0.26865373 0.25993738\n",
      " 0.27529117 0.2841077  0.28731371 0.29931121 0.30301816 0.3051722\n",
      " 0.31594239 0.30239198 0.30983093 0.31949906 0.32055103 0.30567314\n",
      " 0.29390106 0.29422668 0.29335003 0.29597996 0.27977458 0.27714465\n",
      " 0.27832185 0.27902317 0.2804258  0.2886412  0.27932373 0.28308078\n",
      " 0.25655604 0.25144646 0.25793363 0.26667502 0.27401378 0.27724483\n",
      " 0.2866124  0.28773951 0.2952536  0.29858485 0.2981841  0.29973701\n",
      " 0.29946149 0.29477771 0.30056356 0.30141515 0.30354415 0.29968691\n",
      " 0.30795241 0.3059737  0.29036944 0.28556043 0.28939261 0.28548528\n",
      " 0.28571071 0.28370695 0.29009393 0.29036944 0.28969317 0.27421415\n",
      " 0.27539136 0.28515967 0.30564809 0.30396994 0.29963682 0.30189105\n",
      " 0.29938635 0.30226675 0.30294302 0.31599249 0.2989856  0.30041327\n",
      " 0.29763306 0.30046337 0.28766437 0.29788353 0.30732624 0.30607389\n",
      " 0.30234189 0.3117345  0.31812148 0.31293676 0.31386349 0.30949903\n",
      " 0.31079638 0.31151694 0.31191641 0.31217277 0.31238592 0.31260222\n",
      " 0.31283629 0.31308615 0.31334275 0.31359506]\n",
      "11 day output [[0.3138336]]\n",
      "12 day input [0.26900438 0.26462116 0.2750908  0.26912962 0.25758297 0.25209768\n",
      " 0.25372574 0.2560551  0.26652473 0.26865373 0.25993738 0.27529117\n",
      " 0.2841077  0.28731371 0.29931121 0.30301816 0.3051722  0.31594239\n",
      " 0.30239198 0.30983093 0.31949906 0.32055103 0.30567314 0.29390106\n",
      " 0.29422668 0.29335003 0.29597996 0.27977458 0.27714465 0.27832185\n",
      " 0.27902317 0.2804258  0.2886412  0.27932373 0.28308078 0.25655604\n",
      " 0.25144646 0.25793363 0.26667502 0.27401378 0.27724483 0.2866124\n",
      " 0.28773951 0.2952536  0.29858485 0.2981841  0.29973701 0.29946149\n",
      " 0.29477771 0.30056356 0.30141515 0.30354415 0.29968691 0.30795241\n",
      " 0.3059737  0.29036944 0.28556043 0.28939261 0.28548528 0.28571071\n",
      " 0.28370695 0.29009393 0.29036944 0.28969317 0.27421415 0.27539136\n",
      " 0.28515967 0.30564809 0.30396994 0.29963682 0.30189105 0.29938635\n",
      " 0.30226675 0.30294302 0.31599249 0.2989856  0.30041327 0.29763306\n",
      " 0.30046337 0.28766437 0.29788353 0.30732624 0.30607389 0.30234189\n",
      " 0.3117345  0.31812148 0.31293676 0.31386349 0.30949903 0.31079638\n",
      " 0.31151694 0.31191641 0.31217277 0.31238592 0.31260222 0.31283629\n",
      " 0.31308615 0.31334275 0.31359506 0.31383359]\n",
      "12 day output [[0.31405234]]\n",
      "13 day input [0.26462116 0.2750908  0.26912962 0.25758297 0.25209768 0.25372574\n",
      " 0.2560551  0.26652473 0.26865373 0.25993738 0.27529117 0.2841077\n",
      " 0.28731371 0.29931121 0.30301816 0.3051722  0.31594239 0.30239198\n",
      " 0.30983093 0.31949906 0.32055103 0.30567314 0.29390106 0.29422668\n",
      " 0.29335003 0.29597996 0.27977458 0.27714465 0.27832185 0.27902317\n",
      " 0.2804258  0.2886412  0.27932373 0.28308078 0.25655604 0.25144646\n",
      " 0.25793363 0.26667502 0.27401378 0.27724483 0.2866124  0.28773951\n",
      " 0.2952536  0.29858485 0.2981841  0.29973701 0.29946149 0.29477771\n",
      " 0.30056356 0.30141515 0.30354415 0.29968691 0.30795241 0.3059737\n",
      " 0.29036944 0.28556043 0.28939261 0.28548528 0.28571071 0.28370695\n",
      " 0.29009393 0.29036944 0.28969317 0.27421415 0.27539136 0.28515967\n",
      " 0.30564809 0.30396994 0.29963682 0.30189105 0.29938635 0.30226675\n",
      " 0.30294302 0.31599249 0.2989856  0.30041327 0.29763306 0.30046337\n",
      " 0.28766437 0.29788353 0.30732624 0.30607389 0.30234189 0.3117345\n",
      " 0.31812148 0.31293676 0.31386349 0.30949903 0.31079638 0.31151694\n",
      " 0.31191641 0.31217277 0.31238592 0.31260222 0.31283629 0.31308615\n",
      " 0.31334275 0.31359506 0.31383359 0.31405234]\n",
      "13 day output [[0.31424898]]\n",
      "14 day input [0.2750908  0.26912962 0.25758297 0.25209768 0.25372574 0.2560551\n",
      " 0.26652473 0.26865373 0.25993738 0.27529117 0.2841077  0.28731371\n",
      " 0.29931121 0.30301816 0.3051722  0.31594239 0.30239198 0.30983093\n",
      " 0.31949906 0.32055103 0.30567314 0.29390106 0.29422668 0.29335003\n",
      " 0.29597996 0.27977458 0.27714465 0.27832185 0.27902317 0.2804258\n",
      " 0.2886412  0.27932373 0.28308078 0.25655604 0.25144646 0.25793363\n",
      " 0.26667502 0.27401378 0.27724483 0.2866124  0.28773951 0.2952536\n",
      " 0.29858485 0.2981841  0.29973701 0.29946149 0.29477771 0.30056356\n",
      " 0.30141515 0.30354415 0.29968691 0.30795241 0.3059737  0.29036944\n",
      " 0.28556043 0.28939261 0.28548528 0.28571071 0.28370695 0.29009393\n",
      " 0.29036944 0.28969317 0.27421415 0.27539136 0.28515967 0.30564809\n",
      " 0.30396994 0.29963682 0.30189105 0.29938635 0.30226675 0.30294302\n",
      " 0.31599249 0.2989856  0.30041327 0.29763306 0.30046337 0.28766437\n",
      " 0.29788353 0.30732624 0.30607389 0.30234189 0.3117345  0.31812148\n",
      " 0.31293676 0.31386349 0.30949903 0.31079638 0.31151694 0.31191641\n",
      " 0.31217277 0.31238592 0.31260222 0.31283629 0.31308615 0.31334275\n",
      " 0.31359506 0.31383359 0.31405234 0.31424898]\n",
      "14 day output [[0.31442523]]\n",
      "15 day input [0.26912962 0.25758297 0.25209768 0.25372574 0.2560551  0.26652473\n",
      " 0.26865373 0.25993738 0.27529117 0.2841077  0.28731371 0.29931121\n",
      " 0.30301816 0.3051722  0.31594239 0.30239198 0.30983093 0.31949906\n",
      " 0.32055103 0.30567314 0.29390106 0.29422668 0.29335003 0.29597996\n",
      " 0.27977458 0.27714465 0.27832185 0.27902317 0.2804258  0.2886412\n",
      " 0.27932373 0.28308078 0.25655604 0.25144646 0.25793363 0.26667502\n",
      " 0.27401378 0.27724483 0.2866124  0.28773951 0.2952536  0.29858485\n",
      " 0.2981841  0.29973701 0.29946149 0.29477771 0.30056356 0.30141515\n",
      " 0.30354415 0.29968691 0.30795241 0.3059737  0.29036944 0.28556043\n",
      " 0.28939261 0.28548528 0.28571071 0.28370695 0.29009393 0.29036944\n",
      " 0.28969317 0.27421415 0.27539136 0.28515967 0.30564809 0.30396994\n",
      " 0.29963682 0.30189105 0.29938635 0.30226675 0.30294302 0.31599249\n",
      " 0.2989856  0.30041327 0.29763306 0.30046337 0.28766437 0.29788353\n",
      " 0.30732624 0.30607389 0.30234189 0.3117345  0.31812148 0.31293676\n",
      " 0.31386349 0.30949903 0.31079638 0.31151694 0.31191641 0.31217277\n",
      " 0.31238592 0.31260222 0.31283629 0.31308615 0.31334275 0.31359506\n",
      " 0.31383359 0.31405234 0.31424898 0.31442523]\n",
      "15 day output [[0.31458616]]\n",
      "16 day input [0.25758297 0.25209768 0.25372574 0.2560551  0.26652473 0.26865373\n",
      " 0.25993738 0.27529117 0.2841077  0.28731371 0.29931121 0.30301816\n",
      " 0.3051722  0.31594239 0.30239198 0.30983093 0.31949906 0.32055103\n",
      " 0.30567314 0.29390106 0.29422668 0.29335003 0.29597996 0.27977458\n",
      " 0.27714465 0.27832185 0.27902317 0.2804258  0.2886412  0.27932373\n",
      " 0.28308078 0.25655604 0.25144646 0.25793363 0.26667502 0.27401378\n",
      " 0.27724483 0.2866124  0.28773951 0.2952536  0.29858485 0.2981841\n",
      " 0.29973701 0.29946149 0.29477771 0.30056356 0.30141515 0.30354415\n",
      " 0.29968691 0.30795241 0.3059737  0.29036944 0.28556043 0.28939261\n",
      " 0.28548528 0.28571071 0.28370695 0.29009393 0.29036944 0.28969317\n",
      " 0.27421415 0.27539136 0.28515967 0.30564809 0.30396994 0.29963682\n",
      " 0.30189105 0.29938635 0.30226675 0.30294302 0.31599249 0.2989856\n",
      " 0.30041327 0.29763306 0.30046337 0.28766437 0.29788353 0.30732624\n",
      " 0.30607389 0.30234189 0.3117345  0.31812148 0.31293676 0.31386349\n",
      " 0.30949903 0.31079638 0.31151694 0.31191641 0.31217277 0.31238592\n",
      " 0.31260222 0.31283629 0.31308615 0.31334275 0.31359506 0.31383359\n",
      " 0.31405234 0.31424898 0.31442523 0.31458616]\n",
      "16 day output [[0.31473875]]\n",
      "17 day input [0.25209768 0.25372574 0.2560551  0.26652473 0.26865373 0.25993738\n",
      " 0.27529117 0.2841077  0.28731371 0.29931121 0.30301816 0.3051722\n",
      " 0.31594239 0.30239198 0.30983093 0.31949906 0.32055103 0.30567314\n",
      " 0.29390106 0.29422668 0.29335003 0.29597996 0.27977458 0.27714465\n",
      " 0.27832185 0.27902317 0.2804258  0.2886412  0.27932373 0.28308078\n",
      " 0.25655604 0.25144646 0.25793363 0.26667502 0.27401378 0.27724483\n",
      " 0.2866124  0.28773951 0.2952536  0.29858485 0.2981841  0.29973701\n",
      " 0.29946149 0.29477771 0.30056356 0.30141515 0.30354415 0.29968691\n",
      " 0.30795241 0.3059737  0.29036944 0.28556043 0.28939261 0.28548528\n",
      " 0.28571071 0.28370695 0.29009393 0.29036944 0.28969317 0.27421415\n",
      " 0.27539136 0.28515967 0.30564809 0.30396994 0.29963682 0.30189105\n",
      " 0.29938635 0.30226675 0.30294302 0.31599249 0.2989856  0.30041327\n",
      " 0.29763306 0.30046337 0.28766437 0.29788353 0.30732624 0.30607389\n",
      " 0.30234189 0.3117345  0.31812148 0.31293676 0.31386349 0.30949903\n",
      " 0.31079638 0.31151694 0.31191641 0.31217277 0.31238592 0.31260222\n",
      " 0.31283629 0.31308615 0.31334275 0.31359506 0.31383359 0.31405234\n",
      " 0.31424898 0.31442523 0.31458616 0.31473875]\n",
      "17 day output [[0.31489104]]\n",
      "18 day input [0.25372574 0.2560551  0.26652473 0.26865373 0.25993738 0.27529117\n",
      " 0.2841077  0.28731371 0.29931121 0.30301816 0.3051722  0.31594239\n",
      " 0.30239198 0.30983093 0.31949906 0.32055103 0.30567314 0.29390106\n",
      " 0.29422668 0.29335003 0.29597996 0.27977458 0.27714465 0.27832185\n",
      " 0.27902317 0.2804258  0.2886412  0.27932373 0.28308078 0.25655604\n",
      " 0.25144646 0.25793363 0.26667502 0.27401378 0.27724483 0.2866124\n",
      " 0.28773951 0.2952536  0.29858485 0.2981841  0.29973701 0.29946149\n",
      " 0.29477771 0.30056356 0.30141515 0.30354415 0.29968691 0.30795241\n",
      " 0.3059737  0.29036944 0.28556043 0.28939261 0.28548528 0.28571071\n",
      " 0.28370695 0.29009393 0.29036944 0.28969317 0.27421415 0.27539136\n",
      " 0.28515967 0.30564809 0.30396994 0.29963682 0.30189105 0.29938635\n",
      " 0.30226675 0.30294302 0.31599249 0.2989856  0.30041327 0.29763306\n",
      " 0.30046337 0.28766437 0.29788353 0.30732624 0.30607389 0.30234189\n",
      " 0.3117345  0.31812148 0.31293676 0.31386349 0.30949903 0.31079638\n",
      " 0.31151694 0.31191641 0.31217277 0.31238592 0.31260222 0.31283629\n",
      " 0.31308615 0.31334275 0.31359506 0.31383359 0.31405234 0.31424898\n",
      " 0.31442523 0.31458616 0.31473875 0.31489104]\n",
      "18 day output [[0.31505078]]\n",
      "19 day input [0.2560551  0.26652473 0.26865373 0.25993738 0.27529117 0.2841077\n",
      " 0.28731371 0.29931121 0.30301816 0.3051722  0.31594239 0.30239198\n",
      " 0.30983093 0.31949906 0.32055103 0.30567314 0.29390106 0.29422668\n",
      " 0.29335003 0.29597996 0.27977458 0.27714465 0.27832185 0.27902317\n",
      " 0.2804258  0.2886412  0.27932373 0.28308078 0.25655604 0.25144646\n",
      " 0.25793363 0.26667502 0.27401378 0.27724483 0.2866124  0.28773951\n",
      " 0.2952536  0.29858485 0.2981841  0.29973701 0.29946149 0.29477771\n",
      " 0.30056356 0.30141515 0.30354415 0.29968691 0.30795241 0.3059737\n",
      " 0.29036944 0.28556043 0.28939261 0.28548528 0.28571071 0.28370695\n",
      " 0.29009393 0.29036944 0.28969317 0.27421415 0.27539136 0.28515967\n",
      " 0.30564809 0.30396994 0.29963682 0.30189105 0.29938635 0.30226675\n",
      " 0.30294302 0.31599249 0.2989856  0.30041327 0.29763306 0.30046337\n",
      " 0.28766437 0.29788353 0.30732624 0.30607389 0.30234189 0.3117345\n",
      " 0.31812148 0.31293676 0.31386349 0.30949903 0.31079638 0.31151694\n",
      " 0.31191641 0.31217277 0.31238592 0.31260222 0.31283629 0.31308615\n",
      " 0.31334275 0.31359506 0.31383359 0.31405234 0.31424898 0.31442523\n",
      " 0.31458616 0.31473875 0.31489104 0.31505078]\n",
      "19 day output [[0.31522453]]\n",
      "20 day input [0.26652473 0.26865373 0.25993738 0.27529117 0.2841077  0.28731371\n",
      " 0.29931121 0.30301816 0.3051722  0.31594239 0.30239198 0.30983093\n",
      " 0.31949906 0.32055103 0.30567314 0.29390106 0.29422668 0.29335003\n",
      " 0.29597996 0.27977458 0.27714465 0.27832185 0.27902317 0.2804258\n",
      " 0.2886412  0.27932373 0.28308078 0.25655604 0.25144646 0.25793363\n",
      " 0.26667502 0.27401378 0.27724483 0.2866124  0.28773951 0.2952536\n",
      " 0.29858485 0.2981841  0.29973701 0.29946149 0.29477771 0.30056356\n",
      " 0.30141515 0.30354415 0.29968691 0.30795241 0.3059737  0.29036944\n",
      " 0.28556043 0.28939261 0.28548528 0.28571071 0.28370695 0.29009393\n",
      " 0.29036944 0.28969317 0.27421415 0.27539136 0.28515967 0.30564809\n",
      " 0.30396994 0.29963682 0.30189105 0.29938635 0.30226675 0.30294302\n",
      " 0.31599249 0.2989856  0.30041327 0.29763306 0.30046337 0.28766437\n",
      " 0.29788353 0.30732624 0.30607389 0.30234189 0.3117345  0.31812148\n",
      " 0.31293676 0.31386349 0.30949903 0.31079638 0.31151694 0.31191641\n",
      " 0.31217277 0.31238592 0.31260222 0.31283629 0.31308615 0.31334275\n",
      " 0.31359506 0.31383359 0.31405234 0.31424898 0.31442523 0.31458616\n",
      " 0.31473875 0.31489104 0.31505078 0.31522453]\n",
      "20 day output [[0.31541693]]\n",
      "21 day input [0.26865373 0.25993738 0.27529117 0.2841077  0.28731371 0.29931121\n",
      " 0.30301816 0.3051722  0.31594239 0.30239198 0.30983093 0.31949906\n",
      " 0.32055103 0.30567314 0.29390106 0.29422668 0.29335003 0.29597996\n",
      " 0.27977458 0.27714465 0.27832185 0.27902317 0.2804258  0.2886412\n",
      " 0.27932373 0.28308078 0.25655604 0.25144646 0.25793363 0.26667502\n",
      " 0.27401378 0.27724483 0.2866124  0.28773951 0.2952536  0.29858485\n",
      " 0.2981841  0.29973701 0.29946149 0.29477771 0.30056356 0.30141515\n",
      " 0.30354415 0.29968691 0.30795241 0.3059737  0.29036944 0.28556043\n",
      " 0.28939261 0.28548528 0.28571071 0.28370695 0.29009393 0.29036944\n",
      " 0.28969317 0.27421415 0.27539136 0.28515967 0.30564809 0.30396994\n",
      " 0.29963682 0.30189105 0.29938635 0.30226675 0.30294302 0.31599249\n",
      " 0.2989856  0.30041327 0.29763306 0.30046337 0.28766437 0.29788353\n",
      " 0.30732624 0.30607389 0.30234189 0.3117345  0.31812148 0.31293676\n",
      " 0.31386349 0.30949903 0.31079638 0.31151694 0.31191641 0.31217277\n",
      " 0.31238592 0.31260222 0.31283629 0.31308615 0.31334275 0.31359506\n",
      " 0.31383359 0.31405234 0.31424898 0.31442523 0.31458616 0.31473875\n",
      " 0.31489104 0.31505078 0.31522453 0.31541693]\n",
      "21 day output [[0.3156302]]\n",
      "22 day input [0.25993738 0.27529117 0.2841077  0.28731371 0.29931121 0.30301816\n",
      " 0.3051722  0.31594239 0.30239198 0.30983093 0.31949906 0.32055103\n",
      " 0.30567314 0.29390106 0.29422668 0.29335003 0.29597996 0.27977458\n",
      " 0.27714465 0.27832185 0.27902317 0.2804258  0.2886412  0.27932373\n",
      " 0.28308078 0.25655604 0.25144646 0.25793363 0.26667502 0.27401378\n",
      " 0.27724483 0.2866124  0.28773951 0.2952536  0.29858485 0.2981841\n",
      " 0.29973701 0.29946149 0.29477771 0.30056356 0.30141515 0.30354415\n",
      " 0.29968691 0.30795241 0.3059737  0.29036944 0.28556043 0.28939261\n",
      " 0.28548528 0.28571071 0.28370695 0.29009393 0.29036944 0.28969317\n",
      " 0.27421415 0.27539136 0.28515967 0.30564809 0.30396994 0.29963682\n",
      " 0.30189105 0.29938635 0.30226675 0.30294302 0.31599249 0.2989856\n",
      " 0.30041327 0.29763306 0.30046337 0.28766437 0.29788353 0.30732624\n",
      " 0.30607389 0.30234189 0.3117345  0.31812148 0.31293676 0.31386349\n",
      " 0.30949903 0.31079638 0.31151694 0.31191641 0.31217277 0.31238592\n",
      " 0.31260222 0.31283629 0.31308615 0.31334275 0.31359506 0.31383359\n",
      " 0.31405234 0.31424898 0.31442523 0.31458616 0.31473875 0.31489104\n",
      " 0.31505078 0.31522453 0.31541693 0.3156302 ]\n",
      "22 day output [[0.3158642]]\n",
      "23 day input [0.27529117 0.2841077  0.28731371 0.29931121 0.30301816 0.3051722\n",
      " 0.31594239 0.30239198 0.30983093 0.31949906 0.32055103 0.30567314\n",
      " 0.29390106 0.29422668 0.29335003 0.29597996 0.27977458 0.27714465\n",
      " 0.27832185 0.27902317 0.2804258  0.2886412  0.27932373 0.28308078\n",
      " 0.25655604 0.25144646 0.25793363 0.26667502 0.27401378 0.27724483\n",
      " 0.2866124  0.28773951 0.2952536  0.29858485 0.2981841  0.29973701\n",
      " 0.29946149 0.29477771 0.30056356 0.30141515 0.30354415 0.29968691\n",
      " 0.30795241 0.3059737  0.29036944 0.28556043 0.28939261 0.28548528\n",
      " 0.28571071 0.28370695 0.29009393 0.29036944 0.28969317 0.27421415\n",
      " 0.27539136 0.28515967 0.30564809 0.30396994 0.29963682 0.30189105\n",
      " 0.29938635 0.30226675 0.30294302 0.31599249 0.2989856  0.30041327\n",
      " 0.29763306 0.30046337 0.28766437 0.29788353 0.30732624 0.30607389\n",
      " 0.30234189 0.3117345  0.31812148 0.31293676 0.31386349 0.30949903\n",
      " 0.31079638 0.31151694 0.31191641 0.31217277 0.31238592 0.31260222\n",
      " 0.31283629 0.31308615 0.31334275 0.31359506 0.31383359 0.31405234\n",
      " 0.31424898 0.31442523 0.31458616 0.31473875 0.31489104 0.31505078\n",
      " 0.31522453 0.31541693 0.3156302  0.31586421]\n",
      "23 day output [[0.316117]]\n",
      "24 day input [0.2841077  0.28731371 0.29931121 0.30301816 0.3051722  0.31594239\n",
      " 0.30239198 0.30983093 0.31949906 0.32055103 0.30567314 0.29390106\n",
      " 0.29422668 0.29335003 0.29597996 0.27977458 0.27714465 0.27832185\n",
      " 0.27902317 0.2804258  0.2886412  0.27932373 0.28308078 0.25655604\n",
      " 0.25144646 0.25793363 0.26667502 0.27401378 0.27724483 0.2866124\n",
      " 0.28773951 0.2952536  0.29858485 0.2981841  0.29973701 0.29946149\n",
      " 0.29477771 0.30056356 0.30141515 0.30354415 0.29968691 0.30795241\n",
      " 0.3059737  0.29036944 0.28556043 0.28939261 0.28548528 0.28571071\n",
      " 0.28370695 0.29009393 0.29036944 0.28969317 0.27421415 0.27539136\n",
      " 0.28515967 0.30564809 0.30396994 0.29963682 0.30189105 0.29938635\n",
      " 0.30226675 0.30294302 0.31599249 0.2989856  0.30041327 0.29763306\n",
      " 0.30046337 0.28766437 0.29788353 0.30732624 0.30607389 0.30234189\n",
      " 0.3117345  0.31812148 0.31293676 0.31386349 0.30949903 0.31079638\n",
      " 0.31151694 0.31191641 0.31217277 0.31238592 0.31260222 0.31283629\n",
      " 0.31308615 0.31334275 0.31359506 0.31383359 0.31405234 0.31424898\n",
      " 0.31442523 0.31458616 0.31473875 0.31489104 0.31505078 0.31522453\n",
      " 0.31541693 0.3156302  0.31586421 0.31611699]\n",
      "24 day output [[0.31638426]]\n",
      "25 day input [0.28731371 0.29931121 0.30301816 0.3051722  0.31594239 0.30239198\n",
      " 0.30983093 0.31949906 0.32055103 0.30567314 0.29390106 0.29422668\n",
      " 0.29335003 0.29597996 0.27977458 0.27714465 0.27832185 0.27902317\n",
      " 0.2804258  0.2886412  0.27932373 0.28308078 0.25655604 0.25144646\n",
      " 0.25793363 0.26667502 0.27401378 0.27724483 0.2866124  0.28773951\n",
      " 0.2952536  0.29858485 0.2981841  0.29973701 0.29946149 0.29477771\n",
      " 0.30056356 0.30141515 0.30354415 0.29968691 0.30795241 0.3059737\n",
      " 0.29036944 0.28556043 0.28939261 0.28548528 0.28571071 0.28370695\n",
      " 0.29009393 0.29036944 0.28969317 0.27421415 0.27539136 0.28515967\n",
      " 0.30564809 0.30396994 0.29963682 0.30189105 0.29938635 0.30226675\n",
      " 0.30294302 0.31599249 0.2989856  0.30041327 0.29763306 0.30046337\n",
      " 0.28766437 0.29788353 0.30732624 0.30607389 0.30234189 0.3117345\n",
      " 0.31812148 0.31293676 0.31386349 0.30949903 0.31079638 0.31151694\n",
      " 0.31191641 0.31217277 0.31238592 0.31260222 0.31283629 0.31308615\n",
      " 0.31334275 0.31359506 0.31383359 0.31405234 0.31424898 0.31442523\n",
      " 0.31458616 0.31473875 0.31489104 0.31505078 0.31522453 0.31541693\n",
      " 0.3156302  0.31586421 0.31611699 0.31638426]\n",
      "25 day output [[0.31666136]]\n",
      "26 day input [0.29931121 0.30301816 0.3051722  0.31594239 0.30239198 0.30983093\n",
      " 0.31949906 0.32055103 0.30567314 0.29390106 0.29422668 0.29335003\n",
      " 0.29597996 0.27977458 0.27714465 0.27832185 0.27902317 0.2804258\n",
      " 0.2886412  0.27932373 0.28308078 0.25655604 0.25144646 0.25793363\n",
      " 0.26667502 0.27401378 0.27724483 0.2866124  0.28773951 0.2952536\n",
      " 0.29858485 0.2981841  0.29973701 0.29946149 0.29477771 0.30056356\n",
      " 0.30141515 0.30354415 0.29968691 0.30795241 0.3059737  0.29036944\n",
      " 0.28556043 0.28939261 0.28548528 0.28571071 0.28370695 0.29009393\n",
      " 0.29036944 0.28969317 0.27421415 0.27539136 0.28515967 0.30564809\n",
      " 0.30396994 0.29963682 0.30189105 0.29938635 0.30226675 0.30294302\n",
      " 0.31599249 0.2989856  0.30041327 0.29763306 0.30046337 0.28766437\n",
      " 0.29788353 0.30732624 0.30607389 0.30234189 0.3117345  0.31812148\n",
      " 0.31293676 0.31386349 0.30949903 0.31079638 0.31151694 0.31191641\n",
      " 0.31217277 0.31238592 0.31260222 0.31283629 0.31308615 0.31334275\n",
      " 0.31359506 0.31383359 0.31405234 0.31424898 0.31442523 0.31458616\n",
      " 0.31473875 0.31489104 0.31505078 0.31522453 0.31541693 0.3156302\n",
      " 0.31586421 0.31611699 0.31638426 0.31666136]\n",
      "26 day output [[0.31694293]]\n",
      "27 day input [0.30301816 0.3051722  0.31594239 0.30239198 0.30983093 0.31949906\n",
      " 0.32055103 0.30567314 0.29390106 0.29422668 0.29335003 0.29597996\n",
      " 0.27977458 0.27714465 0.27832185 0.27902317 0.2804258  0.2886412\n",
      " 0.27932373 0.28308078 0.25655604 0.25144646 0.25793363 0.26667502\n",
      " 0.27401378 0.27724483 0.2866124  0.28773951 0.2952536  0.29858485\n",
      " 0.2981841  0.29973701 0.29946149 0.29477771 0.30056356 0.30141515\n",
      " 0.30354415 0.29968691 0.30795241 0.3059737  0.29036944 0.28556043\n",
      " 0.28939261 0.28548528 0.28571071 0.28370695 0.29009393 0.29036944\n",
      " 0.28969317 0.27421415 0.27539136 0.28515967 0.30564809 0.30396994\n",
      " 0.29963682 0.30189105 0.29938635 0.30226675 0.30294302 0.31599249\n",
      " 0.2989856  0.30041327 0.29763306 0.30046337 0.28766437 0.29788353\n",
      " 0.30732624 0.30607389 0.30234189 0.3117345  0.31812148 0.31293676\n",
      " 0.31386349 0.30949903 0.31079638 0.31151694 0.31191641 0.31217277\n",
      " 0.31238592 0.31260222 0.31283629 0.31308615 0.31334275 0.31359506\n",
      " 0.31383359 0.31405234 0.31424898 0.31442523 0.31458616 0.31473875\n",
      " 0.31489104 0.31505078 0.31522453 0.31541693 0.3156302  0.31586421\n",
      " 0.31611699 0.31638426 0.31666136 0.31694293]\n",
      "27 day output [[0.31722414]]\n",
      "28 day input [0.3051722  0.31594239 0.30239198 0.30983093 0.31949906 0.32055103\n",
      " 0.30567314 0.29390106 0.29422668 0.29335003 0.29597996 0.27977458\n",
      " 0.27714465 0.27832185 0.27902317 0.2804258  0.2886412  0.27932373\n",
      " 0.28308078 0.25655604 0.25144646 0.25793363 0.26667502 0.27401378\n",
      " 0.27724483 0.2866124  0.28773951 0.2952536  0.29858485 0.2981841\n",
      " 0.29973701 0.29946149 0.29477771 0.30056356 0.30141515 0.30354415\n",
      " 0.29968691 0.30795241 0.3059737  0.29036944 0.28556043 0.28939261\n",
      " 0.28548528 0.28571071 0.28370695 0.29009393 0.29036944 0.28969317\n",
      " 0.27421415 0.27539136 0.28515967 0.30564809 0.30396994 0.29963682\n",
      " 0.30189105 0.29938635 0.30226675 0.30294302 0.31599249 0.2989856\n",
      " 0.30041327 0.29763306 0.30046337 0.28766437 0.29788353 0.30732624\n",
      " 0.30607389 0.30234189 0.3117345  0.31812148 0.31293676 0.31386349\n",
      " 0.30949903 0.31079638 0.31151694 0.31191641 0.31217277 0.31238592\n",
      " 0.31260222 0.31283629 0.31308615 0.31334275 0.31359506 0.31383359\n",
      " 0.31405234 0.31424898 0.31442523 0.31458616 0.31473875 0.31489104\n",
      " 0.31505078 0.31522453 0.31541693 0.3156302  0.31586421 0.31611699\n",
      " 0.31638426 0.31666136 0.31694293 0.31722414]\n",
      "28 day output [[0.31750053]]\n",
      "29 day input [0.31594239 0.30239198 0.30983093 0.31949906 0.32055103 0.30567314\n",
      " 0.29390106 0.29422668 0.29335003 0.29597996 0.27977458 0.27714465\n",
      " 0.27832185 0.27902317 0.2804258  0.2886412  0.27932373 0.28308078\n",
      " 0.25655604 0.25144646 0.25793363 0.26667502 0.27401378 0.27724483\n",
      " 0.2866124  0.28773951 0.2952536  0.29858485 0.2981841  0.29973701\n",
      " 0.29946149 0.29477771 0.30056356 0.30141515 0.30354415 0.29968691\n",
      " 0.30795241 0.3059737  0.29036944 0.28556043 0.28939261 0.28548528\n",
      " 0.28571071 0.28370695 0.29009393 0.29036944 0.28969317 0.27421415\n",
      " 0.27539136 0.28515967 0.30564809 0.30396994 0.29963682 0.30189105\n",
      " 0.29938635 0.30226675 0.30294302 0.31599249 0.2989856  0.30041327\n",
      " 0.29763306 0.30046337 0.28766437 0.29788353 0.30732624 0.30607389\n",
      " 0.30234189 0.3117345  0.31812148 0.31293676 0.31386349 0.30949903\n",
      " 0.31079638 0.31151694 0.31191641 0.31217277 0.31238592 0.31260222\n",
      " 0.31283629 0.31308615 0.31334275 0.31359506 0.31383359 0.31405234\n",
      " 0.31424898 0.31442523 0.31458616 0.31473875 0.31489104 0.31505078\n",
      " 0.31522453 0.31541693 0.3156302  0.31586421 0.31611699 0.31638426\n",
      " 0.31666136 0.31694293 0.31722414 0.31750053]\n",
      "29 day output [[0.31776947]]\n",
      "[[0.30949902534484863], [0.3107963800430298], [0.3115169405937195], [0.31191641092300415], [0.3121727705001831], [0.3123859167098999], [0.3126022219657898], [0.31283628940582275], [0.3130861520767212], [0.31334275007247925], [0.3135950565338135], [0.3138335943222046], [0.3140523433685303], [0.3142489790916443], [0.3144252300262451], [0.31458616256713867], [0.31473875045776367], [0.3148910403251648], [0.31505078077316284], [0.3152245283126831], [0.31541693210601807], [0.3156301975250244], [0.3158642053604126], [0.31611698865890503], [0.3163842558860779], [0.31666135787963867], [0.3169429302215576], [0.3172241449356079], [0.3175005316734314], [0.31776946783065796]]\n"
     ]
    }
   ],
   "source": [
    "# demonstrate prediction for next 10 days\n",
    "from numpy import array\n",
    "\n",
    "lst_output=[]\n",
    "n_steps=100\n",
    "i=0\n",
    "while(i<30):\n",
    "    \n",
    "    if(len(temp_input)>100):\n",
    "        #print(temp_input)\n",
    "        x_input=np.array(temp_input[1:])\n",
    "        print(\"{} day input {}\".format(i,x_input))\n",
    "        x_input=x_input.reshape(1,-1)\n",
    "        x_input = x_input.reshape((1, n_steps, 1))\n",
    "        #print(x_input)\n",
    "        yhat = model.predict(x_input, verbose=0)\n",
    "        print(\"{} day output {}\".format(i,yhat))\n",
    "        temp_input.extend(yhat[0].tolist())\n",
    "        temp_input=temp_input[1:]\n",
    "        #print(temp_input)\n",
    "        lst_output.extend(yhat.tolist())\n",
    "        i=i+1\n",
    "    else:\n",
    "        x_input = x_input.reshape((1, n_steps,1))\n",
    "        yhat = model.predict(x_input, verbose=0)\n",
    "        print(yhat[0])\n",
    "        temp_input.extend(yhat[0].tolist())\n",
    "        print(len(temp_input))\n",
    "        lst_output.extend(yhat.tolist())\n",
    "        i=i+1\n",
    "    \n",
    "\n",
    "print(lst_output)"
   ]
  },
  {
   "cell_type": "code",
   "execution_count": 55,
   "id": "600f2456",
   "metadata": {},
   "outputs": [],
   "source": [
    "day_new=np.arange(1,101)\n",
    "day_pred=np.arange(101,131)"
   ]
  },
  {
   "cell_type": "code",
   "execution_count": 56,
   "id": "48715bcf",
   "metadata": {},
   "outputs": [
    {
     "data": {
      "text/plain": [
       "1257"
      ]
     },
     "execution_count": 56,
     "metadata": {},
     "output_type": "execute_result"
    }
   ],
   "source": [
    "len(df1)\n"
   ]
  },
  {
   "cell_type": "code",
   "execution_count": 57,
   "id": "8cd0b021",
   "metadata": {},
   "outputs": [
    {
     "data": {
      "text/plain": [
       "[<matplotlib.lines.Line2D at 0x1797fd5c650>]"
      ]
     },
     "execution_count": 57,
     "metadata": {},
     "output_type": "execute_result"
    },
    {
     "data": {
      "image/png": "[encoded data removed]",
      "text/plain": [
       "<Figure size 640x480 with 1 Axes>"
      ]
     },
     "metadata": {},
     "output_type": "display_data"
    }
   ],
   "source": [
    "plt.plot(day_new,scaler.inverse_transform(df1[1157:]))\n",
    "plt.plot(day_pred,scaler.inverse_transform(lst_output))"
   ]
  },
  {
   "cell_type": "code",
   "execution_count": 58,
   "id": "9aec632b",
   "metadata": {},
   "outputs": [
    {
     "data": {
      "text/plain": [
       "[<matplotlib.lines.Line2D at 0x179759d9010>]"
      ]
     },
     "execution_count": 58,
     "metadata": {},
     "output_type": "execute_result"
    },
    {
     "data": {
      "image/png": "[encoded data removed]",
      "text/plain": [
       "<Figure size 640x480 with 1 Axes>"
      ]
     },
     "metadata": {},
     "output_type": "display_data"
    }
   ],
   "source": [
    "df3=df1.tolist()\n",
    "df3.extend(lst_output)\n",
    "plt.plot(df3[1200:])"
   ]
  },
  {
   "cell_type": "code",
   "execution_count": 59,
   "id": "42aac1c3",
   "metadata": {},
   "outputs": [],
   "source": [
    "df3=scaler.inverse_transform(df3).tolist()"
   ]
  },
  {
   "cell_type": "code",
   "execution_count": 60,
   "id": "b6472482",
   "metadata": {},
   "outputs": [],
   "source": [
    "df3=scaler.inverse_transform(df3).tolist()"
   ]
  },
  {
   "cell_type": "code",
   "execution_count": 61,
   "id": "edf525e1",
   "metadata": {},
   "outputs": [
    {
     "data": {
      "text/plain": [
       "[<matplotlib.lines.Line2D at 0x17903032bd0>]"
      ]
     },
     "execution_count": 61,
     "metadata": {},
     "output_type": "execute_result"
    },
    {
     "data": {
      "image/png": "[encoded data removed]",
      "text/plain": [
       "<Figure size 640x480 with 1 Axes>"
      ]
     },
     "metadata": {},
     "output_type": "display_data"
    }
   ],
   "source": [
    "plt.plot(df3)"
   ]
  },
  {
   "cell_type": "code",
   "execution_count": null,
   "id": "255e6747",
   "metadata": {},
   "outputs": [],
   "source": []
  }
 ],
 "metadata": {
  "kernelspec": {
   "display_name": "base",
   "language": "python",
   "name": "python3"
  },
  "language_info": {
   "codemirror_mode": {
    "name": "ipython",
    "version": 3
   },
   "file_extension": ".py",
   "mimetype": "text/x-python",
   "name": "python",
   "nbconvert_exporter": "python",
   "pygments_lexer": "ipython3",
   "version": "3.11.7"
  },
  "widgets": {
   "application/vnd.jupyter.widget-state+json": {
    "state": {},
    "version_major": 2,
    "version_minor": 0
   }
  }
 },
 "nbformat": 4,
 "nbformat_minor": 5
}
